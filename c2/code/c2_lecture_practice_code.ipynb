{
 "cells": [
  {
   "cell_type": "markdown",
   "metadata": {},
   "source": [
    "# Python for Everybody\n",
    "## C2: Python Data Structures"
   ]
  },
  {
   "cell_type": "markdown",
   "metadata": {},
   "source": [
    "### Week 1 Lecture Practice Code: Strings"
   ]
  },
  {
   "cell_type": "code",
   "execution_count": 3,
   "metadata": {},
   "outputs": [
    {
     "name": "stdout",
     "output_type": "stream",
     "text": [
      "a\n",
      "n\n"
     ]
    }
   ],
   "source": [
    "# strings and index\n",
    "# string index starts from 0, so\n",
    "# b a n a n a\n",
    "# 0 1 2 3 4 5 \n",
    "\n",
    "fruit = 'banana'\n",
    "print(fruit[1])\n",
    "\n",
    "x = 3\n",
    "print(fruit[x - 1])"
   ]
  },
  {
   "cell_type": "code",
   "execution_count": 4,
   "metadata": {},
   "outputs": [
    {
     "name": "stdout",
     "output_type": "stream",
     "text": [
      "6\n"
     ]
    },
    {
     "data": {
      "text/plain": [
       "int"
      ]
     },
     "execution_count": 4,
     "metadata": {},
     "output_type": "execute_result"
    }
   ],
   "source": [
    "# finding length of a string\n",
    "fruit = 'banana'\n",
    "print(len(fruit))\n",
    "\n",
    "# len returns an integer\n",
    "type(len(fruit))"
   ]
  },
  {
   "cell_type": "code",
   "execution_count": 5,
   "metadata": {},
   "outputs": [
    {
     "name": "stdout",
     "output_type": "stream",
     "text": [
      "0 b\n",
      "1 a\n",
      "2 n\n",
      "3 a\n",
      "4 n\n",
      "5 a\n"
     ]
    }
   ],
   "source": [
    "# looping through strings\n",
    "fruit = 'banana'\n",
    "index = 0\n",
    "\n",
    "while index < len(fruit):\n",
    "    letter = fruit[index]\n",
    "    print(index, letter)\n",
    "    index = index + 1"
   ]
  },
  {
   "cell_type": "code",
   "execution_count": 6,
   "metadata": {},
   "outputs": [
    {
     "name": "stdout",
     "output_type": "stream",
     "text": [
      "b\n",
      "a\n",
      "n\n",
      "a\n",
      "n\n",
      "a\n"
     ]
    }
   ],
   "source": [
    "# an easier way to loop through is using for\n",
    "fruit = 'banana'\n",
    "\n",
    "# letter is the iteration value that is being check if it is in the set fruit\n",
    "for letter in fruit:\n",
    "    print(letter)"
   ]
  },
  {
   "cell_type": "code",
   "execution_count": 7,
   "metadata": {},
   "outputs": [
    {
     "name": "stdout",
     "output_type": "stream",
     "text": [
      "Banana has 3 a\n"
     ]
    }
   ],
   "source": [
    "# count the number of a in the words banana\n",
    "fruit = 'banana'\n",
    "count = 0\n",
    "\n",
    "for letter in fruit:\n",
    "    if letter == 'a':\n",
    "        count = count + 1\n",
    "print('Banana has', count, 'a')"
   ]
  },
  {
   "cell_type": "code",
   "execution_count": 8,
   "metadata": {},
   "outputs": [
    {
     "name": "stdout",
     "output_type": "stream",
     "text": [
      "Mont\n",
      "P\n",
      "Python\n",
      "Mont\n",
      "thon\n",
      "Monty Python\n"
     ]
    }
   ],
   "source": [
    "# slicing strings\n",
    "\n",
    "m = 'Monty Python'\n",
    "print(m[0:4])\n",
    "# Mont\n",
    "print(m[6:7])\n",
    "# P\n",
    "print(m[6:20])\n",
    "# Python\n",
    "\n",
    "# you can also omit the first and last part an thi will look up everything from 0 or till end\n",
    "print(m[:4])\n",
    "#Mont\n",
    "print(m[8:])\n",
    "#thon\n",
    "print(m[:])\n",
    "#Monty Python"
   ]
  },
  {
   "cell_type": "code",
   "execution_count": 9,
   "metadata": {},
   "outputs": [
    {
     "name": "stdout",
     "output_type": "stream",
     "text": [
      "hello altaaf\n"
     ]
    }
   ],
   "source": [
    "# string built in function eg: lower()\n",
    "greet = 'Hello Altaaf'\n",
    "zap = greet.lower()\n",
    "print(zap)"
   ]
  },
  {
   "cell_type": "code",
   "execution_count": 10,
   "metadata": {},
   "outputs": [
    {
     "name": "stdout",
     "output_type": "stream",
     "text": [
      "11\n",
      "32\n",
      "btfinancialgroup.com\n"
     ]
    }
   ],
   "source": [
    "# parsing and extracting\n",
    "data = 'altaaf.khan@btfinancialgroup.com    Fri  May 13 2022  16:38:22'\n",
    "\n",
    "atpos = data.find('@')\n",
    "print(atpos)\n",
    "\n",
    "sppos = data.find(' ')\n",
    "print(sppos)\n",
    "\n",
    "host = data[atpos + 1: sppos]\n",
    "print(host)"
   ]
  },
  {
   "cell_type": "markdown",
   "metadata": {},
   "source": [
    "_____"
   ]
  },
  {
   "cell_type": "markdown",
   "metadata": {},
   "source": [
    "### Week 3 Lecture Practice Code: Files"
   ]
  },
  {
   "cell_type": "code",
   "execution_count": 12,
   "metadata": {},
   "outputs": [
    {
     "name": "stdout",
     "output_type": "stream",
     "text": [
      "But soft what light through yonder window breaks\n",
      "It is the east and Juliet is the sun\n",
      "Arise fair sun and kill the envious moon\n",
      "Who is already sick and pale with grief\n",
      "4 Lines\n"
     ]
    }
   ],
   "source": [
    "# read text file\n",
    "fh = open(\"../Data/romeo.txt\", \"r\")\n",
    "\n",
    "# print out all lines in the text file\n",
    "count = 0\n",
    "for line in fh:\n",
    "    print(line.strip())\n",
    "    count = count + 1\n",
    "\n",
    "# print count of lines in the file\n",
    "print(count,\"Lines\")"
   ]
  },
  {
   "cell_type": "code",
   "execution_count": 18,
   "metadata": {},
   "outputs": [
    {
     "name": "stdout",
     "output_type": "stream",
     "text": [
      "<_io.TextIOWrapper name='../Data/romeo.txt' mode='r' encoding='cp1252'>\n"
     ]
    }
   ],
   "source": [
    "# read text file\n",
    "fh = open(\"../Data/romeo.txt\", \"r\")\n",
    "\n",
    "# print command won't display the contents of the file\n",
    "print(fh)"
   ]
  },
  {
   "cell_type": "code",
   "execution_count": 20,
   "metadata": {},
   "outputs": [
    {
     "name": "stdout",
     "output_type": "stream",
     "text": [
      "But soft what light through yonder window breaks\n",
      "It is the east and Juliet is the sun\n",
      "Arise fair sun and kill the envious moon\n",
      "Who is already sick and pale with grief\n"
     ]
    }
   ],
   "source": [
    "# to print out all lines you have to do this with a for loop\n",
    "fh = open(\"../Data/romeo.txt\", \"r\")\n",
    "\n",
    "for lines in fh:\n",
    "    print(lines.rstrip())"
   ]
  },
  {
   "cell_type": "code",
   "execution_count": 21,
   "metadata": {},
   "outputs": [
    {
     "name": "stdout",
     "output_type": "stream",
     "text": [
      "Hello\n",
      "World\n"
     ]
    }
   ],
   "source": [
    "# new line character \\n\n",
    "stuff = 'Hello\\nWorld'\n",
    "\n",
    "# if you just call the variable stuff it will print out the \\n\n",
    "stuff\n",
    "# Hello\\nWorld\n",
    "\n",
    "# to print out stuff with World in new line run print\n",
    "print(stuff)"
   ]
  },
  {
   "cell_type": "code",
   "execution_count": 22,
   "metadata": {},
   "outputs": [
    {
     "name": "stdout",
     "output_type": "stream",
     "text": [
      "But soft what light through yonder window breaks\n",
      "\n"
     ]
    }
   ],
   "source": [
    "# search through a file\n",
    "fh = open(\"../Data/romeo.txt\")\n",
    "\n",
    "for lines in fh:\n",
    "    if not 'and' in lines:\n",
    "        print(lines)"
   ]
  },
  {
   "cell_type": "code",
   "execution_count": 24,
   "metadata": {},
   "outputs": [
    {
     "name": "stdout",
     "output_type": "stream",
     "text": [
      "But soft what light through yonder window breaks\n",
      "Arise fair sun and kill the envious moon\n",
      "There are 2 lines with is in it\n"
     ]
    }
   ],
   "source": [
    "# example where you prompt user to enter file name\n",
    "fname = input('Enter filename:')\n",
    "\n",
    "# file validation. check to see if file exists\n",
    "try:\n",
    "    fhand = open(fname)\n",
    "except:\n",
    "    print('No file exists with this name')\n",
    "   # quit()\n",
    "\n",
    "# setting count to 0\n",
    "count = 0\n",
    "\n",
    "# loop through file. see if line does not contain is, print those lines and also count of lines\n",
    "for lines in fhand:\n",
    "    if not ' is ' in lines:\n",
    "        count = count + 1\n",
    "        print(lines.strip())\n",
    "        \n",
    "print('There are', count ,'lines with is in it')\n"
   ]
  },
  {
   "cell_type": "markdown",
   "metadata": {},
   "source": [
    "____"
   ]
  },
  {
   "cell_type": "markdown",
   "metadata": {},
   "source": [
    "### Week 4 Lecture Practice Code: Lists"
   ]
  },
  {
   "cell_type": "code",
   "execution_count": 2,
   "metadata": {},
   "outputs": [
    {
     "name": "stdout",
     "output_type": "stream",
     "text": [
      "Happy New Year! Joseph\n",
      "Happy New Year! Glenn\n",
      "Happy New Year! Sally\n",
      "Done\n"
     ]
    }
   ],
   "source": [
    "# list of friend's names\n",
    "friends = ['Joseph', 'Glenn', 'Sally']\n",
    "\n",
    "# for loop to print out Happy New Year message for each friend\n",
    "for friend in friends:\n",
    "    print('Happy New Year!', friend)\n",
    "print('Done')"
   ]
  },
  {
   "cell_type": "code",
   "execution_count": 3,
   "metadata": {},
   "outputs": [
    {
     "name": "stdout",
     "output_type": "stream",
     "text": [
      "Glenn\n"
     ]
    }
   ],
   "source": [
    "# list index starts from 0\n",
    "friends = ['Joseph', 'Glenn', 'Sally']\n",
    "\n",
    "print(friends[1])"
   ]
  },
  {
   "cell_type": "code",
   "execution_count": 6,
   "metadata": {},
   "outputs": [
    {
     "ename": "TypeError",
     "evalue": "'str' object does not support item assignment",
     "output_type": "error",
     "traceback": [
      "\u001b[1;31m---------------------------------------------------------------------------\u001b[0m",
      "\u001b[1;31mTypeError\u001b[0m                                 Traceback (most recent call last)",
      "\u001b[1;32mc:\\Users\\Altaaf Khan\\OneDrive\\Education\\Coursera\\Python for Everybody Specialization\\C2 Python Data Structures\\Code\\c2_lecture_practice_code.ipynb Cell 24'\u001b[0m in \u001b[0;36m<cell line: 5>\u001b[1;34m()\u001b[0m\n\u001b[0;32m      <a href='vscode-notebook-cell:/c%3A/Users/Altaaf%20Khan/OneDrive/Education/Coursera/Python%20for%20Everybody%20Specialization/C2%20Python%20Data%20Structures/Code/c2_lecture_practice_code.ipynb#ch0000023?line=1'>2</a>\u001b[0m fruit \u001b[39m=\u001b[39m \u001b[39m'\u001b[39m\u001b[39mBanana\u001b[39m\u001b[39m'\u001b[39m\n\u001b[0;32m      <a href='vscode-notebook-cell:/c%3A/Users/Altaaf%20Khan/OneDrive/Education/Coursera/Python%20for%20Everybody%20Specialization/C2%20Python%20Data%20Structures/Code/c2_lecture_practice_code.ipynb#ch0000023?line=3'>4</a>\u001b[0m \u001b[39m# trying to change upper case B to lower case be as follows will produce a traceback error\u001b[39;00m\n\u001b[1;32m----> <a href='vscode-notebook-cell:/c%3A/Users/Altaaf%20Khan/OneDrive/Education/Coursera/Python%20for%20Everybody%20Specialization/C2%20Python%20Data%20Structures/Code/c2_lecture_practice_code.ipynb#ch0000023?line=4'>5</a>\u001b[0m fruit[\u001b[39m0\u001b[39m] \u001b[39m=\u001b[39m \u001b[39m'\u001b[39m\u001b[39mb\u001b[39m\u001b[39m'\u001b[39m\n",
      "\u001b[1;31mTypeError\u001b[0m: 'str' object does not support item assignment"
     ]
    }
   ],
   "source": [
    "# strings are immutable, cannot be changed\n",
    "fruit = 'Banana'\n",
    "\n",
    "# trying to change upper case B to lower case be as follows will produce a traceback error\n",
    "fruit[0] = 'b'\n",
    "\n",
    "#  TypeError                                 Traceback (most recent call last)\n",
    "# c:\\Users\\Altaaf Khan\\OneDrive\\Education\\Coursera\\Python for Everybody Specialization\\C2 Python Data Structures\\Code\\c2_lecture_practice_code.ipynb Cell 24' in <cell line: 3>()\n",
    "#       1 # strings are immutable, cannot be changed\n",
    "#       2 fruit = 'Banana'\n",
    "# ----> 3 fruit[0] = 'b'\n",
    "\n",
    "# TypeError: 'str' object does not support item assignment"
   ]
  },
  {
   "cell_type": "code",
   "execution_count": 7,
   "metadata": {},
   "outputs": [
    {
     "name": "stdout",
     "output_type": "stream",
     "text": [
      "banana\n"
     ]
    }
   ],
   "source": [
    "# So you need to apply a lower() function in this case\n",
    "x = fruit.lower()\n",
    "\n",
    "print(x)"
   ]
  },
  {
   "cell_type": "code",
   "execution_count": 8,
   "metadata": {},
   "outputs": [
    {
     "name": "stdout",
     "output_type": "stream",
     "text": [
      "[2, 14, 26, 41, 63]\n",
      "[2, 14, 28, 41, 63]\n"
     ]
    }
   ],
   "source": [
    "# List are mutable\n",
    "lotto = [2, 14, 26, 41, 63]\n",
    "print(lotto)\n",
    "\n",
    "# update index 2, third element of the list from 26 to 28\n",
    "lotto[2] = 28\n",
    "print(lotto)\n"
   ]
  },
  {
   "cell_type": "code",
   "execution_count": 9,
   "metadata": {},
   "outputs": [
    {
     "name": "stdout",
     "output_type": "stream",
     "text": [
      "4\n"
     ]
    }
   ],
   "source": [
    "# len() function on a list returns the number of elements in the list\n",
    "x = [1, 2, 'joe', 99]\n",
    "print(len(x))"
   ]
  },
  {
   "cell_type": "code",
   "execution_count": 13,
   "metadata": {},
   "outputs": [
    {
     "name": "stdout",
     "output_type": "stream",
     "text": [
      "3\n",
      "range(0, 3)\n"
     ]
    }
   ],
   "source": [
    "# range() function\n",
    "friends = ['Joseph', 'Glenn', 'Sally']\n",
    "\n",
    "# number of elements in friends list\n",
    "print(len(friends))\n",
    "\n",
    "# range of elements in friends list\n",
    "print(range(len(friends)))\n"
   ]
  },
  {
   "cell_type": "code",
   "execution_count": 14,
   "metadata": {},
   "outputs": [
    {
     "name": "stdout",
     "output_type": "stream",
     "text": [
      "Happy New Year Joseph\n",
      "Happy New Year Glenn\n",
      "Happy New Year Sally\n",
      "Happy New Year Joseph\n",
      "Happy New Year Glenn\n",
      "Happy New Year Sally\n"
     ]
    }
   ],
   "source": [
    "# a tale of two loops\n",
    "friends = ['Joseph', 'Glenn', 'Sally']\n",
    "\n",
    "for friend in friends:\n",
    "    print('Happy New Year', friend)\n",
    "\n",
    "for i in range(len(friends)):\n",
    "    friend = friends[i]\n",
    "    print('Happy New Year', friend)\n"
   ]
  },
  {
   "cell_type": "code",
   "execution_count": 15,
   "metadata": {},
   "outputs": [
    {
     "name": "stdout",
     "output_type": "stream",
     "text": [
      "[1, 2, 3, 4, 5, 6]\n"
     ]
    }
   ],
   "source": [
    "# Concatenate lists using + similar to concatenating strings\n",
    "x = [1, 2, 3]\n",
    "y = [4, 5, 6]\n",
    "\n",
    "z = x + y\n",
    "print(z)"
   ]
  },
  {
   "cell_type": "code",
   "execution_count": 18,
   "metadata": {},
   "outputs": [
    {
     "name": "stdout",
     "output_type": "stream",
     "text": [
      "[41, 12]\n",
      "[9, 41, 12, 3]\n",
      "[3, 74, 15]\n",
      "[9, 41, 12, 3, 74, 15]\n"
     ]
    }
   ],
   "source": [
    "# lists can be sliced using :\n",
    "t = [9, 41, 12, 3, 74, 15]\n",
    "\n",
    "print(t[1:3])\n",
    "# [41, 12]\n",
    "\n",
    "print(t[:4])\n",
    "# [9, 41, 12, 3]\n",
    "\n",
    "print(t[3:])\n",
    "# [3, 74, 15]/\n",
    "\n",
    "print(t[:])\n",
    "# [9, 41, 12, 3, 74, 15]\n"
   ]
  },
  {
   "cell_type": "code",
   "execution_count": 25,
   "metadata": {},
   "outputs": [
    {
     "name": "stdout",
     "output_type": "stream",
     "text": [
      "[]\n",
      "<class 'list'>\n",
      "['Altaaf']\n"
     ]
    }
   ],
   "source": [
    "# list methods\n",
    "\n",
    "# defining variable x as a list\n",
    "x = list()\n",
    "print(x)\n",
    "\n",
    "print(type(x))\n",
    "# <class 'list'>\n",
    "\n",
    "# to bring up list mehods you can apply\n",
    "# print(dir(x))\n",
    "\n",
    "# some common methods include ['append', 'clear', 'copy', 'count', 'extend', 'index', 'insert', 'pop', 'remove', 'reverse', 'sort']\n",
    "x.append('Altaaf')\n",
    "\n",
    "print(x)"
   ]
  },
  {
   "cell_type": "code",
   "execution_count": 26,
   "metadata": {},
   "outputs": [
    {
     "name": "stdout",
     "output_type": "stream",
     "text": [
      "['a', 'c']\n",
      "b\n"
     ]
    }
   ],
   "source": [
    "# deleting elements using pop\n",
    "t = ['a', 'b', 'c']\n",
    "x = t.pop(1)\n",
    "print(t)\n",
    "print(x)"
   ]
  },
  {
   "cell_type": "code",
   "execution_count": 28,
   "metadata": {},
   "outputs": [
    {
     "name": "stdout",
     "output_type": "stream",
     "text": [
      "['a', 'c']\n"
     ]
    }
   ],
   "source": [
    "# deleting elements using del \n",
    "t = ['a', 'b', 'c']\n",
    "del t[1]\n",
    "print(t)"
   ]
  },
  {
   "cell_type": "code",
   "execution_count": 29,
   "metadata": {},
   "outputs": [
    {
     "name": "stdout",
     "output_type": "stream",
     "text": [
      "['a', 'c']\n"
     ]
    }
   ],
   "source": [
    "# deleting elements using remove \n",
    "t = ['a', 'b', 'c']\n",
    "t.remove('b')\n",
    "print(t)"
   ]
  },
  {
   "cell_type": "code",
   "execution_count": 32,
   "metadata": {},
   "outputs": [
    {
     "name": "stdout",
     "output_type": "stream",
     "text": [
      "True\n",
      "False\n"
     ]
    }
   ],
   "source": [
    "# is something in a list using in. returns a logical operator True/False\n",
    "some = [1, 9, 21, 10, 16]\n",
    "print(9 in some)\n",
    "print(15 in some)"
   ]
  },
  {
   "cell_type": "code",
   "execution_count": 35,
   "metadata": {},
   "outputs": [
    {
     "name": "stdout",
     "output_type": "stream",
     "text": [
      "['Joseph', 'Glenn', 'Sally']\n",
      "['Glenn', 'Joseph', 'Sally']\n"
     ]
    }
   ],
   "source": [
    "# lists can be sorted\n",
    "friends = ['Joseph', 'Glenn', 'Sally']\n",
    "print(friends)\n",
    "\n",
    "# sort list using sort()\n",
    "friends.sort()\n",
    "print(friends)"
   ]
  },
  {
   "cell_type": "code",
   "execution_count": 36,
   "metadata": {},
   "outputs": [
    {
     "name": "stdout",
     "output_type": "stream",
     "text": [
      "6\n",
      "3\n",
      "74\n",
      "154\n",
      "25.666666666666668\n"
     ]
    }
   ],
   "source": [
    "# built in functions\n",
    "nums = [3, 41, 12, 9, 74, 15]\n",
    "\n",
    "print(len(nums))\n",
    "print(min(nums))\n",
    "print(max(nums))\n",
    "print(sum(nums))\n",
    "print(sum(nums) / len(nums))"
   ]
  },
  {
   "cell_type": "code",
   "execution_count": 37,
   "metadata": {},
   "outputs": [
    {
     "name": "stdout",
     "output_type": "stream",
     "text": [
      "Average: 5.666666666666667\n"
     ]
    }
   ],
   "source": [
    "# calculating average from user input\n",
    "total = 0\n",
    "count = 0\n",
    "\n",
    "while True:\n",
    "    inp = input('Enter a number:')\n",
    "    if inp == 'done' : break\n",
    "    \n",
    "    value = float(inp)\n",
    "    total = total + value\n",
    "    count = count + 1\n",
    "\n",
    "average = total / count\n",
    "print('Average:', average)"
   ]
  },
  {
   "cell_type": "code",
   "execution_count": 39,
   "metadata": {},
   "outputs": [
    {
     "name": "stdout",
     "output_type": "stream",
     "text": [
      "Average: 5.666666666666667\n"
     ]
    }
   ],
   "source": [
    "# example of calculating average by appending user input to a list\n",
    "numlist = list()\n",
    "\n",
    "while True:\n",
    "    inp = input('Enter a number (enter done when finished):')\n",
    "    if inp == 'done' : break\n",
    "\n",
    "    value = float(inp)\n",
    "    numlist.append(value)\n",
    "\n",
    "average = sum(numlist) / len(numlist)\n",
    "print('Average:', average)"
   ]
  },
  {
   "cell_type": "code",
   "execution_count": 44,
   "metadata": {},
   "outputs": [
    {
     "name": "stdout",
     "output_type": "stream",
     "text": [
      "With three words\n",
      "['With', 'three', 'words']\n",
      "With\n",
      "three\n",
      "words\n"
     ]
    }
   ],
   "source": [
    "# splittng strings into list\n",
    "abc = 'With three words'\n",
    "print(abc)\n",
    "\n",
    "# split () breaks a string into parts and returns a list\n",
    "stuff = abc.split()\n",
    "print(stuff)\n",
    "\n",
    "# loop to print each string in list\n",
    "for words in stuff:\n",
    "    print(words)"
   ]
  },
  {
   "cell_type": "code",
   "execution_count": 46,
   "metadata": {},
   "outputs": [
    {
     "name": "stdout",
     "output_type": "stream",
     "text": [
      "['A', 'lot', 'of', 'spaces']\n"
     ]
    }
   ],
   "source": [
    "# when you do not specify a delimiter, multiple spaces are treated like one delimiter\n",
    "line = 'A lot                of spaces'\n",
    "\n",
    "etc = line.split()\n",
    "print(etc)"
   ]
  },
  {
   "cell_type": "code",
   "execution_count": 52,
   "metadata": {},
   "outputs": [
    {
     "name": "stdout",
     "output_type": "stream",
     "text": [
      "['first;second;third']\n",
      "['first', 'second', 'third']\n",
      "3\n"
     ]
    }
   ],
   "source": [
    "# spefcifying a delimiter\n",
    "line = 'first;second;third'\n",
    "thing = line.split()\n",
    "print(thing)\n",
    "\n",
    "thing = line.split(';')\n",
    "print(thing)\n",
    "print(len(thing))"
   ]
  },
  {
   "cell_type": "code",
   "execution_count": 53,
   "metadata": {},
   "outputs": [
    {
     "name": "stdout",
     "output_type": "stream",
     "text": [
      "Sat\n",
      "Fri\n",
      "Fri\n",
      "Fri\n",
      "Fri\n",
      "Fri\n",
      "Fri\n",
      "Fri\n",
      "Fri\n",
      "Fri\n",
      "Fri\n",
      "Fri\n",
      "Fri\n",
      "Fri\n",
      "Fri\n",
      "Fri\n",
      "Fri\n",
      "Fri\n",
      "Fri\n",
      "Fri\n",
      "Fri\n",
      "Thu\n",
      "Thu\n",
      "Thu\n",
      "Thu\n",
      "Thu\n",
      "Thu\n"
     ]
    }
   ],
   "source": [
    "# mail data example\n",
    "fhand = open('mbox-short.txt')\n",
    "\n",
    "for line in fhand:\n",
    "    line = line.rstrip()\n",
    "    if not line.startswith('From ') : continue\n",
    "    words = line.split()\n",
    "    print(words[2])"
   ]
  },
  {
   "cell_type": "code",
   "execution_count": 68,
   "metadata": {},
   "outputs": [
    {
     "name": "stdout",
     "output_type": "stream",
     "text": [
      "From altaaf.khan@btfinancialgroup.com Sat Jan 5 09:14:16: 2022\n",
      "['From', 'altaaf.khan@btfinancialgroup.com', 'Sat', 'Jan', '5', '09:14:16:', '2022']\n",
      "altaaf.khan@btfinancialgroup.com\n",
      "['altaaf.khan', 'btfinancialgroup.com']\n",
      "altaaf khan works at btfinancialgroup\n"
     ]
    }
   ],
   "source": [
    "# double split example\n",
    "# where does altaaf khan work\n",
    "line = 'From altaaf.khan@btfinancialgroup.com Sat Jan 5 09:14:16: 2022'\n",
    "print(line)\n",
    "\n",
    "# first split words separated by space\n",
    "words = line.split()\n",
    "print(words)\n",
    "\n",
    "# grab the element from list containing email address\n",
    "email = words[1]\n",
    "print(email)\n",
    "\n",
    "# second split on @\n",
    "pieces = email.split('@')\n",
    "print(pieces)\n",
    "\n",
    "# split domain name\n",
    "name = pieces[0].split('.')\n",
    "fname = name[0]\n",
    "lname = name[1]\n",
    "company = pieces[1].split('.')\n",
    "\n",
    "print(fname, lname, 'works at', company[0])"
   ]
  },
  {
   "cell_type": "markdown",
   "metadata": {},
   "source": [
    "___"
   ]
  },
  {
   "cell_type": "markdown",
   "metadata": {},
   "source": [
    "### Week 5 Lecture Practice Code: Dictionaries"
   ]
  },
  {
   "cell_type": "code",
   "execution_count": 3,
   "metadata": {},
   "outputs": [
    {
     "name": "stdout",
     "output_type": "stream",
     "text": [
      "{'money': 12, 'candy': 3, 'tissues': 75}\n",
      "3\n"
     ]
    }
   ],
   "source": [
    "# make a dictionary purse\n",
    "purse = dict()\n",
    "\n",
    "# create keys and add values\n",
    "purse['money'] = 12\n",
    "purse['candy'] = 3\n",
    "purse['tissues'] = 75\n",
    "\n",
    "# print the whole dictionary\n",
    "print(purse)\n",
    "\n",
    "# print key/values\n",
    "print(purse['candy'])"
   ]
  },
  {
   "cell_type": "code",
   "execution_count": 5,
   "metadata": {},
   "outputs": [
    {
     "name": "stdout",
     "output_type": "stream",
     "text": [
      "{'chuck': 1, 'fred': 42, 'jan': 100}\n"
     ]
    }
   ],
   "source": [
    "# you can make empty dictionary with {}\n",
    "jjj = {}\n",
    "jjj = {'chuck': 1, 'fred': 42, 'jan': 100}\n",
    "\n",
    "print(jjj)"
   ]
  },
  {
   "cell_type": "code",
   "execution_count": 6,
   "metadata": {},
   "outputs": [
    {
     "name": "stdout",
     "output_type": "stream",
     "text": [
      "{'csev': 2, 'cwen': 2, 'ziqan': 1}\n"
     ]
    }
   ],
   "source": [
    "# histogram problem\n",
    "counts = dict()\n",
    "names = ['csev', 'cwen', 'csev', 'ziqan', 'cwen']\n",
    "\n",
    "for name in names:\n",
    "    if name not in counts:\n",
    "        counts[name] = 1\n",
    "    else:\n",
    "        counts[name] = counts[name] + 1\n",
    "print(counts)"
   ]
  },
  {
   "cell_type": "code",
   "execution_count": 15,
   "metadata": {},
   "outputs": [
    {
     "name": "stdout",
     "output_type": "stream",
     "text": [
      "{'csev': 2, 'cwen': 2, 'ziqan': 1}\n"
     ]
    }
   ],
   "source": [
    "# histogram problem using get() method\n",
    "counts = dict()\n",
    "names = ['csev', 'cwen', 'csev', 'ziqan', 'cwen']\n",
    "\n",
    "for name in names:\n",
    "    counts[name] = counts.get(name, 0) + 1\n",
    "print(counts)"
   ]
  },
  {
   "cell_type": "code",
   "execution_count": 21,
   "metadata": {},
   "outputs": [
    {
     "name": "stdout",
     "output_type": "stream",
     "text": [
      "Enter a line of text:\n",
      "Words: ['the', 'clown', 'ran', 'after', 'the', 'car', 'and', 'the', 'car', 'ran', 'into', 'the', 'tent', 'and', 'the', 'tent', 'fell', 'down', 'on', 'the', 'clown', 'and', 'the', 'car']\n",
      "Counting...\n",
      "Counts {'the': 7, 'clown': 2, 'ran': 2, 'after': 1, 'car': 3, 'and': 3, 'into': 1, 'tent': 2, 'fell': 1, 'down': 1, 'on': 1}\n"
     ]
    }
   ],
   "source": [
    "# counting pattern\n",
    "counts = dict()\n",
    "print('Enter a line of text:')\n",
    "line = input()\n",
    "\n",
    "words = line.split()\n",
    "print('Words:', words)\n",
    "\n",
    "print('Counting...')\n",
    "for word in words:\n",
    "    counts[word] = counts.get(word, 0) + 1\n",
    "\n",
    "print('Counts', counts)"
   ]
  },
  {
   "cell_type": "code",
   "execution_count": 26,
   "metadata": {},
   "outputs": [
    {
     "name": "stdout",
     "output_type": "stream",
     "text": [
      "chuck 1\n",
      "fred 42\n",
      "jan 100\n"
     ]
    }
   ],
   "source": [
    "# using for loop to print our key value pair\n",
    "jjj = {'chuck': 1, 'fred': 42, 'jan': 100}\n",
    "\n",
    "for key in jjj:\n",
    "    print(key, jjj[key])"
   ]
  },
  {
   "cell_type": "code",
   "execution_count": 29,
   "metadata": {},
   "outputs": [
    {
     "name": "stdout",
     "output_type": "stream",
     "text": [
      "dict_keys(['chuck', 'fred', 'jan'])\n",
      "dict_values([1, 42, 100])\n",
      "dict_items([('chuck', 1), ('fred', 42), ('jan', 100)])\n"
     ]
    }
   ],
   "source": [
    "# another way of print dictionaries\n",
    "jjj = {'chuck': 1, 'fred': 42, 'jan': 100}\n",
    "\n",
    "# print all keys\n",
    "print(jjj.keys())\n",
    "\n",
    "# print all values\n",
    "print(jjj.values())\n",
    "\n",
    "# print key value pairs as tuples (covered in next lesson)\n",
    "print(jjj.items())"
   ]
  },
  {
   "cell_type": "code",
   "execution_count": 30,
   "metadata": {},
   "outputs": [
    {
     "name": "stdout",
     "output_type": "stream",
     "text": [
      "chuck 1\n",
      "fred 42\n",
      "jan 100\n"
     ]
    }
   ],
   "source": [
    "# two iteration variables\n",
    "jjj = {'chuck': 1, 'fred': 42, 'jan': 100}\n",
    "\n",
    "# aaa: keys and bbb; values. two iteration variables\n",
    "for aaa,bbb in jjj.items():\n",
    "    print(aaa, bbb)"
   ]
  },
  {
   "cell_type": "code",
   "execution_count": 39,
   "metadata": {},
   "outputs": [
    {
     "name": "stdout",
     "output_type": "stream",
     "text": [
      "to 16\n"
     ]
    }
   ],
   "source": [
    "# putting it all together\n",
    "\n",
    "# ask user to input file name\n",
    "name = input('Enter file:')\n",
    "handle = open(name)\n",
    "\n",
    "# counting words\n",
    "counts = dict()\n",
    "for line in handle:\n",
    "    words = line.split()\n",
    "    for word in words:\n",
    "        counts[word] = counts.get(word,0) + 1\n",
    "# print(counts)\n",
    "\n",
    "# print the biggest word count\n",
    "bigcount = None\n",
    "bigword = None\n",
    "for word,count in counts.items():\n",
    "    # looks for word with max count\n",
    "    if bigcount is None or count > bigcount:\n",
    "        bigword = word\n",
    "        bigcount = count\n",
    "\n",
    "print(bigword, bigcount)\n"
   ]
  },
  {
   "cell_type": "markdown",
   "metadata": {},
   "source": [
    "___"
   ]
  },
  {
   "cell_type": "markdown",
   "metadata": {},
   "source": [
    "### Week 6 Lecture Practice Code: Tuples"
   ]
  },
  {
   "cell_type": "code",
   "execution_count": 40,
   "metadata": {},
   "outputs": [
    {
     "name": "stdout",
     "output_type": "stream",
     "text": [
      "fred\n"
     ]
    }
   ],
   "source": [
    "# multiple assignment using tuple\n",
    "# order matters\n",
    "(x, y) = (4, 'fred')\n",
    "print(y)"
   ]
  },
  {
   "cell_type": "code",
   "execution_count": 44,
   "metadata": {},
   "outputs": [
    {
     "name": "stdout",
     "output_type": "stream",
     "text": [
      "csev 2\n",
      "cwen 4\n",
      "dict_items([('csev', 2), ('cwen', 4)])\n"
     ]
    }
   ],
   "source": [
    "d = dict()\n",
    "d['csev'] = 2\n",
    "d['cwen'] = 4\n",
    "\n",
    "for (k, v) in d.items():\n",
    "    print(k, v)\n",
    "\n",
    "tups = d.items()\n",
    "# prints dictionary items as a list of tuples\n",
    "print(tups)"
   ]
  },
  {
   "cell_type": "code",
   "execution_count": 52,
   "metadata": {},
   "outputs": [
    {
     "data": {
      "text/plain": [
       "True"
      ]
     },
     "execution_count": 52,
     "metadata": {},
     "output_type": "execute_result"
    }
   ],
   "source": [
    "# comparing two tuples\n",
    "(0, 1, 2)< (5, 1, 2)\n"
   ]
  },
  {
   "cell_type": "code",
   "execution_count": 53,
   "metadata": {},
   "outputs": [
    {
     "data": {
      "text/plain": [
       "True"
      ]
     },
     "execution_count": 53,
     "metadata": {},
     "output_type": "execute_result"
    }
   ],
   "source": [
    "(0, 1, 2000000) < (0, 3, 4)"
   ]
  },
  {
   "cell_type": "code",
   "execution_count": 54,
   "metadata": {},
   "outputs": [
    {
     "data": {
      "text/plain": [
       "True"
      ]
     },
     "execution_count": 54,
     "metadata": {},
     "output_type": "execute_result"
    }
   ],
   "source": [
    "( 'Jones', 'Sally' ) < ('Jones', 'Sam')"
   ]
  },
  {
   "cell_type": "code",
   "execution_count": 55,
   "metadata": {},
   "outputs": [
    {
     "data": {
      "text/plain": [
       "True"
      ]
     },
     "execution_count": 55,
     "metadata": {},
     "output_type": "execute_result"
    }
   ],
   "source": [
    "( 'Jones', 'Sally') > ('Adams', 'Sam')"
   ]
  },
  {
   "cell_type": "code",
   "execution_count": 48,
   "metadata": {},
   "outputs": [
    {
     "name": "stdout",
     "output_type": "stream",
     "text": [
      "a 10\n",
      "b 1\n",
      "c 22\n"
     ]
    }
   ],
   "source": [
    "# sort a dictionary on items\n",
    "d = {'a':10, 'c':22, 'b': 1}\n",
    "\n",
    "# this will sort keys only\n",
    "t = sorted(d.items())\n",
    "\n",
    "for k, v in t:\n",
    "    print(k, v)"
   ]
  },
  {
   "cell_type": "code",
   "execution_count": 51,
   "metadata": {},
   "outputs": [
    {
     "name": "stdout",
     "output_type": "stream",
     "text": [
      "[(22, 'c'), (10, 'a'), (1, 'b')]\n"
     ]
    }
   ],
   "source": [
    "# if you want to sort by values\n",
    "d = {'a':10, 'c':22, 'b': 1}\n",
    "tmp = list()\n",
    "\n",
    "for k, v in d.items():\n",
    "    tmp.append((v, k))\n",
    "\n",
    "# sort the tmp list on value\n",
    "tmp = sorted(tmp, reverse=True)\n",
    "print(tmp)\n"
   ]
  },
  {
   "cell_type": "code",
   "execution_count": 61,
   "metadata": {},
   "outputs": [
    {
     "name": "stdout",
     "output_type": "stream",
     "text": [
      "the 3\n",
      "is 3\n",
      "and 3\n",
      "sun 2\n",
      "yonder 1\n",
      "with 1\n",
      "window 1\n",
      "what 1\n",
      "through 1\n",
      "soft 1\n"
     ]
    }
   ],
   "source": [
    "# common words in romeo.txt\n",
    "fhand = open('romeo.txt')\n",
    "counts = {}\n",
    "for line in fhand:\n",
    "    words = line.split()\n",
    "    for word in words:\n",
    "        counts[word] = counts.get(word, 0 ) + 1\n",
    "\n",
    "lst = []\n",
    "for key, val in counts.items():\n",
    "    newtup = (val, key) \n",
    "    lst.append(newtup)\n",
    "\n",
    "lst = sorted(lst, reverse=True)\n",
    "\n",
    "for val, key in lst[:10] :\n",
    "    print(key, val)\n"
   ]
  },
  {
   "cell_type": "code",
   "execution_count": 62,
   "metadata": {},
   "outputs": [
    {
     "name": "stdout",
     "output_type": "stream",
     "text": [
      "[(1, 'b'), (10, 'a'), (22, 'c')]\n"
     ]
    }
   ],
   "source": [
    "# list comprehension\n",
    "c = {'a':10, 'b':1, 'c':22}\n",
    "\n",
    "print( sorted( [ (v,k) for k,v in c.items() ] ) )\n",
    "\n",
    "# the statement enclosed in [ ] is the same as \n",
    "# lst = []\n",
    "# for key, val in counts.items():\n",
    "#     newtup = (val, key) \n",
    "#     lst.append(newtup)"
   ]
  },
  {
   "cell_type": "markdown",
   "metadata": {},
   "source": [
    "____"
   ]
  }
 ],
 "metadata": {
  "interpreter": {
   "hash": "133602682ceac8dbac470470852ca2735ced8cf8e0bdd97a4df2a7e33d23d50b"
  },
  "kernelspec": {
   "display_name": "Python 3.10.4 64-bit",
   "language": "python",
   "name": "python3"
  },
  "language_info": {
   "codemirror_mode": {
    "name": "ipython",
    "version": 3
   },
   "file_extension": ".py",
   "mimetype": "text/x-python",
   "name": "python",
   "nbconvert_exporter": "python",
   "pygments_lexer": "ipython3",
   "version": "3.10.4"
  },
  "orig_nbformat": 4
 },
 "nbformat": 4,
 "nbformat_minor": 2
}
