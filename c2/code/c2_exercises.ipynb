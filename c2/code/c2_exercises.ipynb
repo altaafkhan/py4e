{
 "cells": [
  {
   "cell_type": "markdown",
   "metadata": {},
   "source": [
    "### Python for Everybody\n",
    "#### C2: Python Data Structures"
   ]
  },
  {
   "cell_type": "markdown",
   "metadata": {},
   "source": [
    "### Week 1 Exercises: Strings\n",
    "These exercises are from: https://www.py4e.com/html3/06-strings"
   ]
  },
  {
   "cell_type": "markdown",
   "metadata": {},
   "source": [
    "Exercise 1: Write code using find() and string slicing (see section 6.10) to extract the number at the end of the line below. Convert the extracted value to a floating point number and print it out.\n",
    "```\n",
    "text = \"X-DSPAM-Confidence:    0.8475\"\n",
    "```"
   ]
  },
  {
   "cell_type": "code",
   "execution_count": 1,
   "metadata": {},
   "outputs": [
    {
     "name": "stdout",
     "output_type": "stream",
     "text": [
      "0.8475\n"
     ]
    }
   ],
   "source": [
    "text = \"X-DSPAM-Confidence:    0.8475\"\n",
    "\n",
    "# find position of 0\n",
    "pos = text.find('0')\n",
    "\n",
    "# strip out the string that contains 0.8475\n",
    "num = text[pos:pos+7]\n",
    "\n",
    "# conver to float and print the number\n",
    "print(float(num))"
   ]
  },
  {
   "cell_type": "markdown",
   "metadata": {},
   "source": [
    "_____"
   ]
  },
  {
   "cell_type": "markdown",
   "metadata": {},
   "source": [
    "### Week 3 Exercises: Files\n",
    "These exercises are from: https://www.py4e.com/html3/07-files"
   ]
  },
  {
   "cell_type": "markdown",
   "metadata": {},
   "source": [
    "Exercise 1: Write a program to read through a file and print the contents of the file (line by line) all in upper case. Executing the program will look as follows:\n",
    "\n",
    "```\n",
    "python shout.py\n",
    "Enter a file name: mbox-short.txt\n",
    "FROM STEPHEN.MARQUARD@UCT.AC.ZA SAT JAN  5 09:14:16 2008\n",
    "RETURN-PATH: <POSTMASTER@COLLAB.SAKAIPROJECT.ORG>\n",
    "RECEIVED: FROM MURDER (MAIL.UMICH.EDU [141.211.14.90])\n",
    "     BY FRANKENSTEIN.MAIL.UMICH.EDU (CYRUS V2.3.8) WITH LMTPA;\n",
    "     SAT, 05 JAN 2008 09:14:16 -0500\n",
    "```"
   ]
  },
  {
   "cell_type": "code",
   "execution_count": 7,
   "metadata": {},
   "outputs": [],
   "source": [
    "# promt user for filename\n",
    "fname = input('Enter a file name:')\n",
    "\n",
    "fhand = open(fname)\n",
    "\n",
    "for lines in fhand:\n",
    "    sl = lines.rstrip()\n",
    "    print(sl.upper())"
   ]
  },
  {
   "cell_type": "markdown",
   "metadata": {},
   "source": [
    "Exercise 2: Write a program to prompt for a file name, and then read through the file and look for lines of the form:\n",
    "\n",
    "```\n",
    "X-DSPAM-Confidence: 0.8475 \n",
    "```"
   ]
  },
  {
   "cell_type": "code",
   "execution_count": 4,
   "metadata": {},
   "outputs": [
    {
     "name": "stdout",
     "output_type": "stream",
     "text": [
      "X-DSPAM-CONFIDENCE: 0.8475\n",
      "X-DSPAM-CONFIDENCE: 0.6178\n",
      "X-DSPAM-CONFIDENCE: 0.6961\n",
      "X-DSPAM-CONFIDENCE: 0.7565\n",
      "X-DSPAM-CONFIDENCE: 0.7626\n",
      "X-DSPAM-CONFIDENCE: 0.7556\n",
      "X-DSPAM-CONFIDENCE: 0.7002\n",
      "X-DSPAM-CONFIDENCE: 0.7615\n",
      "X-DSPAM-CONFIDENCE: 0.7601\n",
      "X-DSPAM-CONFIDENCE: 0.7605\n",
      "X-DSPAM-CONFIDENCE: 0.6959\n",
      "X-DSPAM-CONFIDENCE: 0.7606\n",
      "X-DSPAM-CONFIDENCE: 0.7559\n",
      "X-DSPAM-CONFIDENCE: 0.7605\n",
      "X-DSPAM-CONFIDENCE: 0.6932\n",
      "X-DSPAM-CONFIDENCE: 0.7558\n",
      "X-DSPAM-CONFIDENCE: 0.6526\n",
      "X-DSPAM-CONFIDENCE: 0.6948\n",
      "X-DSPAM-CONFIDENCE: 0.6528\n",
      "X-DSPAM-CONFIDENCE: 0.7002\n",
      "X-DSPAM-CONFIDENCE: 0.7554\n",
      "X-DSPAM-CONFIDENCE: 0.6956\n",
      "X-DSPAM-CONFIDENCE: 0.6959\n",
      "X-DSPAM-CONFIDENCE: 0.7556\n",
      "X-DSPAM-CONFIDENCE: 0.9846\n",
      "X-DSPAM-CONFIDENCE: 0.8509\n",
      "X-DSPAM-CONFIDENCE: 0.9907\n"
     ]
    }
   ],
   "source": [
    "# promt user for filename\n",
    "fname = input('Enter a file name:')\n",
    "\n",
    "fhand = open(fname)\n",
    "\n",
    "for lines in fhand:\n",
    "    if 'X-DSPAM-Confidence:' in lines:\n",
    "        sl = lines.rstrip()\n",
    "        print(sl.upper())"
   ]
  },
  {
   "cell_type": "markdown",
   "metadata": {},
   "source": [
    "When you encounter a line that starts with “X-DSPAM-Confidence:” pull apart the line to extract the floating-point number on the line. Count these lines and then compute the total of the spam confidence values from these lines. When you reach the end of the file, print out the average spam confidence.\n",
    "\n",
    "```\n",
    "Enter the file name: mbox.txt\n",
    "Average spam confidence: 0.894128046745\n",
    "\n",
    "Enter the file name: mbox-short.txt\n",
    "Average spam confidence: 0.750718518519\n",
    "```\n",
    "\n",
    "Test your file on the mbox.txt and mbox-short.txt files."
   ]
  },
  {
   "cell_type": "code",
   "execution_count": 5,
   "metadata": {},
   "outputs": [
    {
     "name": "stdout",
     "output_type": "stream",
     "text": [
      "Average spam confidence: 0.7507185185185187\n"
     ]
    }
   ],
   "source": [
    "# promt user for filename\n",
    "fname = input('Enter a file name:')\n",
    "fhand = open(fname)\n",
    "\n",
    "# set count and total to 0\n",
    "count = 0\n",
    "total = 0\n",
    "\n",
    "for line in fhand:\n",
    "    if not line.startswith(\"X-DSPAM-Confidence:\"):\n",
    "        continue\n",
    "\n",
    "    # find position of :\n",
    "    pos = line.find(':')\n",
    "\n",
    "    # strip number after :\n",
    "    num = line[pos+1:].rstrip()\n",
    "    \n",
    "    # convert to float\n",
    "    fnum = float(num)\n",
    "\n",
    "    # calculate total and count number of records\n",
    "    total = total + fnum\n",
    "    count = count + 1\n",
    "\n",
    "    # calculate average\n",
    "    avg = total / count\n",
    "\n",
    "# print avergae\n",
    "print('Average spam confidence:', avg)"
   ]
  },
  {
   "cell_type": "markdown",
   "metadata": {},
   "source": [
    "Exercise 3: Sometimes when programmers get bored or want to have a bit of fun, they add a harmless Easter Egg to their program. Modify the program that prompts the user for the file name so that it prints a funny message when the user types in the exact file name “na na boo boo”. The program should behave normally for all other files which exist and don’t exist. Here is a sample execution of the program:\n",
    "\n",
    "```\n",
    "python egg.py\n",
    "Enter the file name: mbox.txt\n",
    "There were 1797 subject lines in mbox.txt\n",
    "\n",
    "python egg.py\n",
    "Enter the file name: missing.txt\n",
    "File cannot be opened: missing.txt\n",
    "\n",
    "python egg.py\n",
    "Enter the file name: na na boo boo\n",
    "NA NA BOO BOO TO YOU - You have been punk'd!\n",
    "```\n",
    "\n",
    "We are not encouraging you to put Easter Eggs in your programs; this is just an exercise."
   ]
  },
  {
   "cell_type": "code",
   "execution_count": 6,
   "metadata": {},
   "outputs": [
    {
     "name": "stdout",
     "output_type": "stream",
     "text": [
      "NA NA BOO BOO TO YOU - You have been punkd!\n"
     ]
    }
   ],
   "source": [
    "# prompt for file name\n",
    "fn = input('Enter the file name:')\n",
    "\n",
    "count = 0 \n",
    "\n",
    "if 'na na boo boo' in fn:\n",
    "    print('NA NA BOO BOO TO YOU - You have been punkd!')\n",
    "else:\n",
    "    try:\n",
    "        fh = open(fn)\n",
    "\n",
    "        for l in fh:\n",
    "            if not l.startswith('Subject:'): \n",
    "                continue\n",
    "            count = count + 1\n",
    "        print('There were', count, 'lines in', fn)\n",
    "        \n",
    "    except:\n",
    "        print('File cannot be opened:', fn)"
   ]
  },
  {
   "cell_type": "markdown",
   "metadata": {},
   "source": [
    "____"
   ]
  },
  {
   "cell_type": "markdown",
   "metadata": {},
   "source": [
    "### Week 4 Exercises: Lists\n",
    "\n",
    "These exercises are from: https://www.py4e.com/html3/08-lists"
   ]
  },
  {
   "cell_type": "markdown",
   "metadata": {},
   "source": [
    "**Exercise 4:** Find all unique words in a file\n",
    "\n",
    "Shakespeare used over 20,000 words in his works. But how would you determine that? How would you produce the list of all the words that Shakespeare used? Would you download all his work, read it and track all unique words by hand?\n",
    "\n",
    "Let’s use Python to achieve that instead. List all unique words, sorted in alphabetical order, that are stored in a file **romeo.txt** containing a subset of Shakespeare’s work.\n",
    "\n",
    "To get started, download a copy of the file https://www.py4e.com/code3/romeo.txt. Create a list of unique words, which will contain the final result. Write a program to open the file **romeo.txt** and read it line by line. For each line, split the line into a list of words using the **split** function. For each word, check to see if the word is already in the list of unique words. If the word is not in the list of unique words, add it to the list. When the program completes, sort and print the list of unique words in alphabetical order.\n",
    "\n",
    "```\n",
    "Enter file name: romeo.txt\n",
    "['Arise', 'But', 'It', 'Juliet', 'Who', 'already', 'and', 'breaks', 'east', 'envious', 'fair', 'grief', 'is', 'kill', 'light', 'moon', 'pale', 'sick', 'soft', 'sun', 'the', 'through', 'what', 'window', 'with', 'yonder']\n",
    "```"
   ]
  },
  {
   "cell_type": "code",
   "execution_count": 1,
   "metadata": {},
   "outputs": [
    {
     "name": "stdout",
     "output_type": "stream",
     "text": [
      "['Arise', 'But', 'It', 'Juliet', 'Who', 'already', 'and', 'breaks', 'east', 'envious', 'fair', 'grief', 'is', 'kill', 'light', 'moon', 'pale', 'sick', 'soft', 'sun', 'the', 'through', 'what', 'window', 'with', 'yonder']\n"
     ]
    }
   ],
   "source": [
    "fname = input(\"Enter file name: \")\n",
    "fh = open(fname)\n",
    "\n",
    "# create an empty list \n",
    "lst = list()\n",
    "\n",
    "# rstrip and split lines\n",
    "for line in fh:\n",
    "    l = line.rstrip()\n",
    "    s = l.split()\n",
    "    # print(s)\n",
    "\n",
    "# loop through all words in s and check to see if words appear in lst before doing an append, sort\n",
    "    for words in s:\n",
    "        if words not in lst:\n",
    "            lst.append(words)\n",
    "            lst.sort()\n",
    "print(lst)"
   ]
  },
  {
   "cell_type": "markdown",
   "metadata": {},
   "source": [
    "**Exercise 5:** Minimalist Email Client.\n",
    "\n",
    "MBOX (mail box) is a popular file format to store and share a collection of emails. This was used by early email servers and desktop apps. Without getting into too many details, MBOX is a text file, which stores emails consecutively. Emails are separated by a special line which starts with **From** (notice the space). Importantly, lines starting with **From:** (notice the colon) describes the email itself and does not act as a separator. Imagine you wrote a minimalist email app, that lists the email of the senders in the user’s Inbox and counts the number of emails.\n",
    "\n",
    "Write a program to read through the mail box data and when you find line that starts with “From”, you will split the line into words using the **split** function. We are interested in who sent the message, which is the second word on the From line.\n",
    "\n",
    "```\n",
    "From stephen.marquard@uct.ac.za Sat Jan 5 09:14:16 2008\n",
    "```\n",
    "You will parse the From line and print out the second word for each From line, then you will also count the number of From (not From:) lines and print out a count at the end. This is a good sample output with a few lines removed:\n",
    "\n",
    "```\n",
    "Enter a file name: mbox-short.txt\n",
    "stephen.marquard@uct.ac.za\n",
    "louis@media.berkeley.edu\n",
    "zqian@umich.edu\n",
    "\n",
    "[...some output removed...]\n",
    "\n",
    "ray@media.berkeley.edu\n",
    "cwen@iupui.edu\n",
    "cwen@iupui.edu\n",
    "cwen@iupui.edu\n",
    "There were 27 lines in the file with From as the first word\n",
    "```"
   ]
  },
  {
   "cell_type": "code",
   "execution_count": 2,
   "metadata": {},
   "outputs": [
    {
     "name": "stdout",
     "output_type": "stream",
     "text": [
      "stephen.marquard@uct.ac.za\n",
      "louis@media.berkeley.edu\n",
      "zqian@umich.edu\n",
      "rjlowe@iupui.edu\n",
      "zqian@umich.edu\n",
      "rjlowe@iupui.edu\n",
      "cwen@iupui.edu\n",
      "cwen@iupui.edu\n",
      "gsilver@umich.edu\n",
      "gsilver@umich.edu\n",
      "zqian@umich.edu\n",
      "gsilver@umich.edu\n",
      "wagnermr@iupui.edu\n",
      "zqian@umich.edu\n",
      "antranig@caret.cam.ac.uk\n",
      "gopal.ramasammycook@gmail.com\n",
      "david.horwitz@uct.ac.za\n",
      "david.horwitz@uct.ac.za\n",
      "david.horwitz@uct.ac.za\n",
      "david.horwitz@uct.ac.za\n",
      "stephen.marquard@uct.ac.za\n",
      "louis@media.berkeley.edu\n",
      "louis@media.berkeley.edu\n",
      "ray@media.berkeley.edu\n",
      "cwen@iupui.edu\n",
      "cwen@iupui.edu\n",
      "cwen@iupui.edu\n",
      "There were 27 lines in the file with From as the first word\n"
     ]
    }
   ],
   "source": [
    "# prompt user to input filename\n",
    "fname = input(\"Enter file name: \")\n",
    "fh = open(fname)\n",
    "\n",
    "# create an empty list and set count to 0\n",
    "lst = []\n",
    "count = 0\n",
    "\n",
    "# loop through file, look for lines starting with From\n",
    "for f in fh:\n",
    "    line = f.rstrip()\n",
    "    if not line.startswith('From '): continue\n",
    "    \n",
    "    # split the line starting with From and count count number of line\n",
    "    lst = line.split()\n",
    "    count = count + 1\n",
    "\n",
    "    # print second element of list, email address\n",
    "    print(lst[1])\n",
    "    \n",
    "print(\"There were\", count, \"lines in the file with From as the first word\")"
   ]
  },
  {
   "cell_type": "markdown",
   "metadata": {},
   "source": [
    "**Exercise 6:** Rewrite the program that prompts the user for a list of numbers and prints out the maximum and minimum of the numbers at the end when the user enters “done”. Write the program to store the numbers the user enters in a list and use the **max()** and **min()** functions to compute the maximum and minimum numbers after the loop completes."
   ]
  },
  {
   "cell_type": "code",
   "execution_count": 6,
   "metadata": {},
   "outputs": [
    {
     "name": "stdout",
     "output_type": "stream",
     "text": [
      "Numbers entered: [3242, 63456, 67856756, 423453646854]\n",
      "Total count of numbers entered: 4\n",
      "Minimum number: 3242\n",
      "Maximum number: 423453646854\n"
     ]
    }
   ],
   "source": [
    "# \n",
    "numlist = list()\n",
    "count = 0\n",
    "\n",
    "while True:\n",
    "    inp = input('Enter a number (type done when finished):')\n",
    "    if inp == 'done' : break\n",
    "    value = int(inp)\n",
    "    numlist.append(value)\n",
    "    count = count + 1\n",
    "\n",
    "print('Numbers entered:', numlist)\n",
    "print('Total count of numbers entered:', count)\n",
    "print('Minimum number:', min(numlist))\n",
    "print('Maximum number:', max(numlist))\n"
   ]
  },
  {
   "cell_type": "markdown",
   "metadata": {},
   "source": [
    "_____"
   ]
  },
  {
   "cell_type": "markdown",
   "metadata": {},
   "source": [
    "### Week 5 Exercises: Dictionaries\n",
    "\n",
    "These exercises are from: https://www.py4e.com/html3/09-dictionaries"
   ]
  },
  {
   "cell_type": "markdown",
   "metadata": {},
   "source": [
    "**Exercise 2:** Write a program that categorizes each mail message by which day of the week the commit was done. To do this look for lines that start with “From”, then look for the third word and keep a running count of each of the days of the week. At the end of the program print out the contents of your dictionary (order does not matter).\n",
    "\n",
    "**Sample Line:**\n",
    "```\n",
    "From stephen.marquard@uct.ac.za Sat Jan  5 09:14:16 2008\n",
    "```\n",
    "**Sample Execution:**\n",
    "```\n",
    "python dow.py\n",
    "Enter a file name: mbox-short.txt\n",
    "{'Fri': 20, 'Thu': 6, 'Sat': 1}\n",
    "```"
   ]
  },
  {
   "cell_type": "code",
   "execution_count": 10,
   "metadata": {},
   "outputs": [
    {
     "name": "stdout",
     "output_type": "stream",
     "text": [
      "{'Sat': 1, 'Fri': 20, 'Thu': 6}\n"
     ]
    }
   ],
   "source": [
    "# prompt user to enter file name\n",
    "file = input('Enter file name:')\n",
    "\n",
    "# input check\n",
    "if len(file) < 1:\n",
    "    inp = 'mbox-short.txt'\n",
    "else:\n",
    "    inp = file\n",
    "\n",
    "# open file\n",
    "handle = open(inp, 'r')\n",
    "\n",
    "# create empty dictionary called counts\n",
    "counts = dict()\n",
    "\n",
    "# loop through file\n",
    "for f in handle:\n",
    "    # strip new line character and look for lines beginning with From\n",
    "    line = f.strip()\n",
    "    if not line.startswith('From ') : continue\n",
    "\n",
    "    # split lines into words and grab day\n",
    "    words = line.split()\n",
    "    day = words[2]\n",
    "\n",
    "    counts[day] = counts.get(day, 0) + 1\n",
    "\n",
    "print(counts)"
   ]
  },
  {
   "cell_type": "markdown",
   "metadata": {},
   "source": [
    "**Exercise 3:** Write a program to read through a mail log, build a histogram using a dictionary to count how many messages have come from each email address, and print the dictionary.\n",
    "```\n",
    "Enter file name: mbox-short.txt\n",
    "{'gopal.ramasammycook@gmail.com': 1, 'louis@media.berkeley.edu': 3, 'cwen@iupui.edu': 5, 'antranig@caret.cam.ac.uk': 1, 'rjlowe@iupui.edu': 2, 'gsilver@umich.edu': 3, 'david.horwitz@uct.ac.za': 4, 'wagnermr@iupui.edu': 1, 'zqian@umich.edu': 4, 'stephen.marquard@uct.ac.za': 2, 'ray@media.berkeley.edu': 1}\n",
    "```"
   ]
  },
  {
   "cell_type": "code",
   "execution_count": 11,
   "metadata": {},
   "outputs": [
    {
     "name": "stdout",
     "output_type": "stream",
     "text": [
      "{'stephen.marquard@uct.ac.za': 2, 'louis@media.berkeley.edu': 3, 'zqian@umich.edu': 4, 'rjlowe@iupui.edu': 2, 'cwen@iupui.edu': 5, 'gsilver@umich.edu': 3, 'wagnermr@iupui.edu': 1, 'antranig@caret.cam.ac.uk': 1, 'gopal.ramasammycook@gmail.com': 1, 'david.horwitz@uct.ac.za': 4, 'ray@media.berkeley.edu': 1}\n"
     ]
    }
   ],
   "source": [
    "# prompt user to enter file name\n",
    "file = input('Enter file name:')\n",
    "\n",
    "# input check\n",
    "if len(file) < 1:\n",
    "    inp = 'mbox-short.txt'\n",
    "else:\n",
    "    inp = file\n",
    "\n",
    "# open file\n",
    "handle = open(inp, 'r')\n",
    "\n",
    "# create empty dictionary called counts\n",
    "counts = dict()\n",
    "\n",
    "# loop through file\n",
    "for f in handle:\n",
    "    # strip new line character and look for lines beginning with From\n",
    "    line = f.strip()\n",
    "    if not line.startswith('From ') : continue\n",
    "\n",
    "    # split lines into words and grab day\n",
    "    words = line.split()\n",
    "    emails = words[1]\n",
    "\n",
    "    counts[emails] = counts.get(emails, 0) + 1\n",
    "\n",
    "print(counts)"
   ]
  },
  {
   "cell_type": "markdown",
   "metadata": {},
   "source": [
    "**Exercise 4:** Add code to the above program to figure out who has the most messages in the file. After all the data has been read and the dictionary has been created, look through the dictionary using a maximum loop (see Chapter 5: Maximum and minimum loops) to find who has the most messages and print how many messages the person has.\n",
    "```\n",
    "Enter a file name: mbox-short.txt\n",
    "cwen@iupui.edu 5\n",
    "\n",
    "Enter a file name: mbox.txt\n",
    "zqian@umich.edu 195\n",
    "```"
   ]
  },
  {
   "cell_type": "code",
   "execution_count": 2,
   "metadata": {},
   "outputs": [
    {
     "name": "stdout",
     "output_type": "stream",
     "text": [
      "zqian@umich.edu 195\n"
     ]
    }
   ],
   "source": [
    "# prompt user to enter file name\n",
    "file = input('Enter file name:')\n",
    "\n",
    "# open file\n",
    "handle = open(file, 'r')\n",
    "\n",
    "# create empty dictionary called counts\n",
    "counts = dict()\n",
    "\n",
    "# loop through file\n",
    "for f in handle:\n",
    "    # strip new line character and look for lines beginning with From\n",
    "    line = f.strip()\n",
    "    if not line.startswith('From ') : continue\n",
    "\n",
    "    # split lines into words and grab day\n",
    "    words = line.split()\n",
    "    emails = words[1]\n",
    "\n",
    "    counts[emails] = counts.get(emails, 0) + 1\n",
    "\n",
    "bigemail = None\n",
    "bigcount = None\n",
    "\n",
    "for email, count in counts.items():\n",
    "    if bigcount is None or count > bigcount:\n",
    "        bigemail = email\n",
    "        bigcount = count\n",
    "\n",
    "print(bigemail, bigcount)"
   ]
  },
  {
   "cell_type": "markdown",
   "metadata": {},
   "source": [
    "**Exercise 5:** This program records the domain name (instead of the address) where the message was sent from instead of who the mail came from (i.e., the whole email address). At the end of the program, print out the contents of your dictionary.\n",
    "```\n",
    "python schoolcount.py\n",
    "Enter a file name: mbox-short.txt\n",
    "{'media.berkeley.edu': 4, 'uct.ac.za': 6, 'umich.edu': 7, 'gmail.com': 1, 'caret.cam.ac.uk': 1, 'iupui.edu': 8}\n",
    "```"
   ]
  },
  {
   "cell_type": "code",
   "execution_count": 6,
   "metadata": {},
   "outputs": [
    {
     "name": "stdout",
     "output_type": "stream",
     "text": [
      "{'uct.ac.za': 6, 'media.berkeley.edu': 4, 'umich.edu': 7, 'iupui.edu': 8, 'caret.cam.ac.uk': 1, 'gmail.com': 1}\n"
     ]
    }
   ],
   "source": [
    "# prompt user to enter file name\n",
    "file = input('Enter file name:')\n",
    "\n",
    "# input check\n",
    "if len(file) < 1:\n",
    "    inp = 'mbox-short.txt'\n",
    "else:\n",
    "    inp = file\n",
    "\n",
    "# open file\n",
    "handle = open(inp, 'r')\n",
    "\n",
    "# create empty dictionary called counts\n",
    "counts = dict()\n",
    "\n",
    "# loop through file\n",
    "for f in handle:\n",
    "    # strip new line character and look for lines beginning with From\n",
    "    line = f.strip()\n",
    "    if not line.startswith('From ') : continue\n",
    "\n",
    "    # split lines into words and grab day\n",
    "    words = line.split()\n",
    "    emails = words[1]\n",
    "    esplit = emails.split('@')\n",
    "    domain = esplit[1]\n",
    "    # print(domain)\n",
    "\n",
    "    counts[domain] = counts.get(domain, 0) + 1\n",
    "\n",
    "print(counts)"
   ]
  },
  {
   "cell_type": "markdown",
   "metadata": {},
   "source": [
    "______"
   ]
  },
  {
   "cell_type": "markdown",
   "metadata": {},
   "source": [
    "### Week 6 Exercises: Tuples\n",
    "\n",
    "These exercises are from: https://www.py4e.com/html3/10-tuples"
   ]
  },
  {
   "cell_type": "code",
   "execution_count": null,
   "metadata": {},
   "outputs": [],
   "source": []
  }
 ],
 "metadata": {
  "interpreter": {
   "hash": "133602682ceac8dbac470470852ca2735ced8cf8e0bdd97a4df2a7e33d23d50b"
  },
  "kernelspec": {
   "display_name": "Python 3.10.4 64-bit",
   "language": "python",
   "name": "python3"
  },
  "language_info": {
   "codemirror_mode": {
    "name": "ipython",
    "version": 3
   },
   "file_extension": ".py",
   "mimetype": "text/x-python",
   "name": "python",
   "nbconvert_exporter": "python",
   "pygments_lexer": "ipython3",
   "version": "3.10.4"
  },
  "orig_nbformat": 4
 },
 "nbformat": 4,
 "nbformat_minor": 2
}
