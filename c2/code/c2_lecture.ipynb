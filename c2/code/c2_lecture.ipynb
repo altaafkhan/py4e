{
 "cells": [
  {
   "cell_type": "markdown",
   "metadata": {},
   "source": [
    "## C2 Python Data Structures"
   ]
  },
  {
   "cell_type": "markdown",
   "metadata": {},
   "source": [
    "### Week 1 Lecture Practice Code: Strings"
   ]
  },
  {
   "cell_type": "code",
   "execution_count": 3,
   "metadata": {},
   "outputs": [
    {
     "name": "stdout",
     "output_type": "stream",
     "text": [
      "a\n",
      "n\n"
     ]
    }
   ],
   "source": [
    "# strings and index\n",
    "# string index starts from 0, so\n",
    "# b a n a n a\n",
    "# 0 1 2 3 4 5 \n",
    "\n",
    "fruit = 'banana'\n",
    "print(fruit[1])\n",
    "\n",
    "x = 3\n",
    "print(fruit[x - 1])"
   ]
  },
  {
   "cell_type": "code",
   "execution_count": 4,
   "metadata": {},
   "outputs": [
    {
     "name": "stdout",
     "output_type": "stream",
     "text": [
      "6\n"
     ]
    },
    {
     "data": {
      "text/plain": [
       "int"
      ]
     },
     "execution_count": 4,
     "metadata": {},
     "output_type": "execute_result"
    }
   ],
   "source": [
    "# finding length of a string\n",
    "fruit = 'banana'\n",
    "print(len(fruit))\n",
    "\n",
    "# len returns an integer\n",
    "type(len(fruit))"
   ]
  },
  {
   "cell_type": "code",
   "execution_count": 5,
   "metadata": {},
   "outputs": [
    {
     "name": "stdout",
     "output_type": "stream",
     "text": [
      "0 b\n",
      "1 a\n",
      "2 n\n",
      "3 a\n",
      "4 n\n",
      "5 a\n"
     ]
    }
   ],
   "source": [
    "# looping through strings\n",
    "fruit = 'banana'\n",
    "index = 0\n",
    "\n",
    "while index < len(fruit):\n",
    "    letter = fruit[index]\n",
    "    print(index, letter)\n",
    "    index = index + 1"
   ]
  },
  {
   "cell_type": "code",
   "execution_count": 6,
   "metadata": {},
   "outputs": [
    {
     "name": "stdout",
     "output_type": "stream",
     "text": [
      "b\n",
      "a\n",
      "n\n",
      "a\n",
      "n\n",
      "a\n"
     ]
    }
   ],
   "source": [
    "# an easier way to loop through is using for\n",
    "fruit = 'banana'\n",
    "\n",
    "# letter is the iteration value that is being check if it is in the set fruit\n",
    "for letter in fruit:\n",
    "    print(letter)"
   ]
  },
  {
   "cell_type": "code",
   "execution_count": 7,
   "metadata": {},
   "outputs": [
    {
     "name": "stdout",
     "output_type": "stream",
     "text": [
      "Banana has 3 a\n"
     ]
    }
   ],
   "source": [
    "# count the number of a in the words banana\n",
    "fruit = 'banana'\n",
    "count = 0\n",
    "\n",
    "for letter in fruit:\n",
    "    if letter == 'a':\n",
    "        count = count + 1\n",
    "print('Banana has', count, 'a')"
   ]
  },
  {
   "cell_type": "code",
   "execution_count": 8,
   "metadata": {},
   "outputs": [
    {
     "name": "stdout",
     "output_type": "stream",
     "text": [
      "Mont\n",
      "P\n",
      "Python\n",
      "Mont\n",
      "thon\n",
      "Monty Python\n"
     ]
    }
   ],
   "source": [
    "# slicing strings\n",
    "\n",
    "m = 'Monty Python'\n",
    "print(m[0:4])\n",
    "# Mont\n",
    "print(m[6:7])\n",
    "# P\n",
    "print(m[6:20])\n",
    "# Python\n",
    "\n",
    "# you can also omit the first and last part an thi will look up everything from 0 or till end\n",
    "print(m[:4])\n",
    "#Mont\n",
    "print(m[8:])\n",
    "#thon\n",
    "print(m[:])\n",
    "#Monty Python"
   ]
  },
  {
   "cell_type": "code",
   "execution_count": 9,
   "metadata": {},
   "outputs": [
    {
     "name": "stdout",
     "output_type": "stream",
     "text": [
      "hello altaaf\n"
     ]
    }
   ],
   "source": [
    "# string built in function eg: lower()\n",
    "greet = 'Hello Altaaf'\n",
    "zap = greet.lower()\n",
    "print(zap)"
   ]
  },
  {
   "cell_type": "code",
   "execution_count": 10,
   "metadata": {},
   "outputs": [
    {
     "name": "stdout",
     "output_type": "stream",
     "text": [
      "11\n",
      "32\n",
      "btfinancialgroup.com\n"
     ]
    }
   ],
   "source": [
    "# parsing and extracting\n",
    "data = 'altaaf.khan@btfinancialgroup.com    Fri  May 13 2022  16:38:22'\n",
    "\n",
    "atpos = data.find('@')\n",
    "print(atpos)\n",
    "\n",
    "sppos = data.find(' ')\n",
    "print(sppos)\n",
    "\n",
    "host = data[atpos + 1: sppos]\n",
    "print(host)"
   ]
  },
  {
   "cell_type": "markdown",
   "metadata": {},
   "source": [
    "_____"
   ]
  },
  {
   "cell_type": "markdown",
   "metadata": {},
   "source": [
    "### Week 3 Lecture Practice Code: Files"
   ]
  },
  {
   "cell_type": "code",
   "execution_count": 12,
   "metadata": {},
   "outputs": [
    {
     "name": "stdout",
     "output_type": "stream",
     "text": [
      "But soft what light through yonder window breaks\n",
      "It is the east and Juliet is the sun\n",
      "Arise fair sun and kill the envious moon\n",
      "Who is already sick and pale with grief\n",
      "4 Lines\n"
     ]
    }
   ],
   "source": [
    "# read text file\n",
    "fh = open(\"../Data/romeo.txt\", \"r\")\n",
    "\n",
    "# print out all lines in the text file\n",
    "count = 0\n",
    "for line in fh:\n",
    "    print(line.strip())\n",
    "    count = count + 1\n",
    "\n",
    "# print count of lines in the file\n",
    "print(count,\"Lines\")"
   ]
  },
  {
   "cell_type": "markdown",
   "metadata": {},
   "source": [
    "### Practice code from Week 3 lecture"
   ]
  },
  {
   "cell_type": "code",
   "execution_count": 18,
   "metadata": {},
   "outputs": [
    {
     "name": "stdout",
     "output_type": "stream",
     "text": [
      "<_io.TextIOWrapper name='../Data/romeo.txt' mode='r' encoding='cp1252'>\n"
     ]
    }
   ],
   "source": [
    "# read text file\n",
    "fh = open(\"../Data/romeo.txt\", \"r\")\n",
    "\n",
    "# print command won't display the contents of the file\n",
    "print(fh)"
   ]
  },
  {
   "cell_type": "code",
   "execution_count": 20,
   "metadata": {},
   "outputs": [
    {
     "name": "stdout",
     "output_type": "stream",
     "text": [
      "But soft what light through yonder window breaks\n",
      "It is the east and Juliet is the sun\n",
      "Arise fair sun and kill the envious moon\n",
      "Who is already sick and pale with grief\n"
     ]
    }
   ],
   "source": [
    "# to print out all lines you have to do this with a for loop\n",
    "fh = open(\"../Data/romeo.txt\", \"r\")\n",
    "\n",
    "for lines in fh:\n",
    "    print(lines.rstrip())"
   ]
  },
  {
   "cell_type": "code",
   "execution_count": 21,
   "metadata": {},
   "outputs": [
    {
     "name": "stdout",
     "output_type": "stream",
     "text": [
      "Hello\n",
      "World\n"
     ]
    }
   ],
   "source": [
    "# new line character \\n\n",
    "stuff = 'Hello\\nWorld'\n",
    "\n",
    "# if you just call the variable stuff it will print out the \\n\n",
    "stuff\n",
    "# Hello\\nWorld\n",
    "\n",
    "# to print out stuff with World in new line run print\n",
    "print(stuff)"
   ]
  },
  {
   "cell_type": "code",
   "execution_count": 22,
   "metadata": {},
   "outputs": [
    {
     "name": "stdout",
     "output_type": "stream",
     "text": [
      "But soft what light through yonder window breaks\n",
      "\n"
     ]
    }
   ],
   "source": [
    "# search through a file\n",
    "fh = open(\"../Data/romeo.txt\")\n",
    "\n",
    "for lines in fh:\n",
    "    if not 'and' in lines:\n",
    "        print(lines)"
   ]
  },
  {
   "cell_type": "code",
   "execution_count": 24,
   "metadata": {},
   "outputs": [
    {
     "name": "stdout",
     "output_type": "stream",
     "text": [
      "But soft what light through yonder window breaks\n",
      "Arise fair sun and kill the envious moon\n",
      "There are 2 lines with is in it\n"
     ]
    }
   ],
   "source": [
    "# example where you prompt user to enter file name\n",
    "fname = input('Enter filename:')\n",
    "\n",
    "# file validation. check to see if file exists\n",
    "try:\n",
    "    fhand = open(fname)\n",
    "except:\n",
    "    print('No file exists with this name')\n",
    "   # quit()\n",
    "\n",
    "# setting count to 0\n",
    "count = 0\n",
    "\n",
    "# loop through file. see if line does not contain is, print those lines and also count of lines\n",
    "for lines in fhand:\n",
    "    if not ' is ' in lines:\n",
    "        count = count + 1\n",
    "        print(lines.strip())\n",
    "        \n",
    "print('There are', count ,'lines with is in it')\n"
   ]
  },
  {
   "cell_type": "markdown",
   "metadata": {},
   "source": [
    "____"
   ]
  },
  {
   "cell_type": "markdown",
   "metadata": {},
   "source": [
    "### Week 4 Lecture Practice Code: Lists"
   ]
  },
  {
   "cell_type": "code",
   "execution_count": null,
   "metadata": {},
   "outputs": [],
   "source": []
  },
  {
   "cell_type": "code",
   "execution_count": null,
   "metadata": {},
   "outputs": [],
   "source": []
  },
  {
   "cell_type": "code",
   "execution_count": null,
   "metadata": {},
   "outputs": [],
   "source": []
  },
  {
   "cell_type": "code",
   "execution_count": null,
   "metadata": {},
   "outputs": [],
   "source": []
  },
  {
   "cell_type": "code",
   "execution_count": null,
   "metadata": {},
   "outputs": [],
   "source": []
  },
  {
   "cell_type": "code",
   "execution_count": null,
   "metadata": {},
   "outputs": [],
   "source": []
  },
  {
   "cell_type": "code",
   "execution_count": null,
   "metadata": {},
   "outputs": [],
   "source": []
  },
  {
   "cell_type": "code",
   "execution_count": null,
   "metadata": {},
   "outputs": [],
   "source": []
  }
 ],
 "metadata": {
  "interpreter": {
   "hash": "133602682ceac8dbac470470852ca2735ced8cf8e0bdd97a4df2a7e33d23d50b"
  },
  "kernelspec": {
   "display_name": "Python 3.10.4 64-bit",
   "language": "python",
   "name": "python3"
  },
  "language_info": {
   "codemirror_mode": {
    "name": "ipython",
    "version": 3
   },
   "file_extension": ".py",
   "mimetype": "text/x-python",
   "name": "python",
   "nbconvert_exporter": "python",
   "pygments_lexer": "ipython3",
   "version": "3.10.4"
  },
  "orig_nbformat": 4
 },
 "nbformat": 4,
 "nbformat_minor": 2
}
