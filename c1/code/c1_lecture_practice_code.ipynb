{
 "cells": [
  {
   "cell_type": "markdown",
   "metadata": {},
   "source": [
    "## C1 Programming for Everybody"
   ]
  },
  {
   "cell_type": "markdown",
   "metadata": {},
   "source": [
    "### Week 2 Lecture Practice Code: Installing Python"
   ]
  },
  {
   "cell_type": "code",
   "execution_count": 1,
   "metadata": {},
   "outputs": [
    {
     "name": "stdout",
     "output_type": "stream",
     "text": [
      "hello world!\n"
     ]
    }
   ],
   "source": [
    "# Optional Practice Peer Graded Assignment\n",
    "# From Python for Everybody Specialisation\n",
    "# Write a program that prints 'hello world'\n",
    "print(\"hello world!\")"
   ]
  },
  {
   "cell_type": "markdown",
   "metadata": {},
   "source": [
    "___"
   ]
  },
  {
   "cell_type": "markdown",
   "metadata": {},
   "source": [
    "### Week 4 Lecture Practice Code: Variables and Expressions"
   ]
  },
  {
   "cell_type": "code",
   "execution_count": 3,
   "metadata": {},
   "outputs": [
    {
     "name": "stdout",
     "output_type": "stream",
     "text": [
      "11.0\n"
     ]
    }
   ],
   "source": [
    "# order of operations/evaluation\n",
    "x = 1 + 2 ** 3 / 4 * 5\n",
    "print(x)"
   ]
  },
  {
   "cell_type": "code",
   "execution_count": 4,
   "metadata": {},
   "outputs": [
    {
     "data": {
      "text/plain": [
       "float"
      ]
     },
     "execution_count": 4,
     "metadata": {},
     "output_type": "execute_result"
    }
   ],
   "source": [
    "# checking the type of variable x\n",
    "type(x)"
   ]
  },
  {
   "cell_type": "code",
   "execution_count": 5,
   "metadata": {},
   "outputs": [
    {
     "name": "stdout",
     "output_type": "stream",
     "text": [
      "Hello world!\n"
     ]
    }
   ],
   "source": [
    "# concatenate string\n",
    "y = 'Hello' + ' ' + 'world!'\n",
    "print(y)"
   ]
  },
  {
   "cell_type": "code",
   "execution_count": 6,
   "metadata": {},
   "outputs": [
    {
     "data": {
      "text/plain": [
       "str"
      ]
     },
     "execution_count": 6,
     "metadata": {},
     "output_type": "execute_result"
    }
   ],
   "source": [
    "# checking the type of variable x\n",
    "type(y)"
   ]
  },
  {
   "cell_type": "code",
   "execution_count": 7,
   "metadata": {},
   "outputs": [
    {
     "name": "stdout",
     "output_type": "stream",
     "text": [
      "199.0\n"
     ]
    }
   ],
   "source": [
    "# type conversion\n",
    "print(float(99) + 100)"
   ]
  },
  {
   "cell_type": "code",
   "execution_count": 8,
   "metadata": {},
   "outputs": [
    {
     "name": "stdout",
     "output_type": "stream",
     "text": [
      "Welcome Altaaf\n"
     ]
    }
   ],
   "source": [
    "# user input example\n",
    "nam = input('Who are you?')\n",
    "print('Welcome', nam)"
   ]
  },
  {
   "cell_type": "code",
   "execution_count": 9,
   "metadata": {},
   "outputs": [
    {
     "name": "stdout",
     "output_type": "stream",
     "text": [
      "You are 5 floors up from the ground floor\n"
     ]
    }
   ],
   "source": [
    "# converting user input\n",
    "floor = input('Enter floor you are on:')\n",
    "\n",
    "# this line converts the user string input to int\n",
    "from_grd = int(floor) - 0\n",
    "\n",
    "print('You are', from_grd, 'floors up from the ground floor')"
   ]
  },
  {
   "cell_type": "code",
   "execution_count": 10,
   "metadata": {},
   "outputs": [
    {
     "data": {
      "text/plain": [
       "98"
      ]
     },
     "execution_count": 10,
     "metadata": {},
     "output_type": "execute_result"
    }
   ],
   "source": [
    " int(98.6)"
   ]
  },
  {
   "cell_type": "markdown",
   "metadata": {},
   "source": [
    "____"
   ]
  },
  {
   "cell_type": "markdown",
   "metadata": {},
   "source": [
    "### Week 5 Lecture Practice Code: Conditional Statements"
   ]
  },
  {
   "cell_type": "code",
   "execution_count": 12,
   "metadata": {},
   "outputs": [
    {
     "name": "stdout",
     "output_type": "stream",
     "text": [
      "Smaller\n",
      "Finish!\n"
     ]
    }
   ],
   "source": [
    "# conditional statement\n",
    "x = int(input('Enter a number:'))\n",
    "\n",
    "if x < 10:\n",
    "    print('Smaller')\n",
    "if x >= 10:\n",
    "    print('Bigger')\n",
    "\n",
    "print('Finish!')"
   ]
  },
  {
   "cell_type": "code",
   "execution_count": 13,
   "metadata": {},
   "outputs": [
    {
     "name": "stdout",
     "output_type": "stream",
     "text": [
      "Bigger\n",
      "All done!\n"
     ]
    }
   ],
   "source": [
    "# two way decision if/else\n",
    "y = int(input('Enter a number:'))\n",
    "\n",
    "if y > 2:\n",
    "    print('Bigger')\n",
    "else:\n",
    "    print('Smaller')\n",
    "\n",
    "print('All done!')"
   ]
  },
  {
   "cell_type": "code",
   "execution_count": 14,
   "metadata": {},
   "outputs": [
    {
     "name": "stdout",
     "output_type": "stream",
     "text": [
      "Huge\n",
      "All done!\n"
     ]
    }
   ],
   "source": [
    "# multi way\n",
    "z = int(input('Enter a number:'))\n",
    "\n",
    "if z < 2:\n",
    "    print('Small')\n",
    "elif z < 10:\n",
    "    print('Medium')\n",
    "elif z < 20:\n",
    "    print('Big')\n",
    "elif z < 40:\n",
    "    print('Large')\n",
    "elif z < 100:\n",
    "    print('Huge')\n",
    "else:\n",
    "    print('Ginormous')\n",
    "\n",
    "print('All done!')"
   ]
  },
  {
   "cell_type": "code",
   "execution_count": 15,
   "metadata": {},
   "outputs": [
    {
     "name": "stdout",
     "output_type": "stream",
     "text": [
      "You entered: 1000\n",
      "You entered a number. Great work!\n",
      "1000 is Ginormous\n",
      "All done!\n"
     ]
    }
   ],
   "source": [
    "# try/except \n",
    "z = input('Enter a number:')\n",
    "print('You entered:', z)\n",
    "\n",
    "# try/except converts any string input to -1\n",
    "try:\n",
    "    a = int(z)\n",
    "except:\n",
    "    a = -1\n",
    "\n",
    "if a > 0:\n",
    "    print('You entered a number. Great work!')\n",
    "    if a <= 2:\n",
    "        print(a, 'is Small')\n",
    "    elif a <= 10:\n",
    "        print(a, 'is Medium')\n",
    "    elif a <= 20:\n",
    "        print(a, 'is Big')\n",
    "    elif a <= 40:\n",
    "        print(a, 'is Large')\n",
    "    elif a <= 100:\n",
    "        print(a, 'is Huge')\n",
    "    else:\n",
    "        print(a, 'is Ginormous')\n",
    "else:\n",
    "    print(z, 'is not a number')\n",
    "\n",
    "\n",
    "\n",
    "print('All done!')"
   ]
  },
  {
   "cell_type": "code",
   "execution_count": null,
   "metadata": {},
   "outputs": [],
   "source": [
    "# exact code from tutorial. quit() does not work\n",
    "\n",
    "sh = input('Enter hours')\n",
    "sr = input('Enter rate')\n",
    "\n",
    "try:\n",
    "    fh = float(sh)\n",
    "    fr = float(sr)\n",
    "except:\n",
    "    print('Error, please enter numeric number')\n",
    "    quit()\n",
    "\n",
    "if fh > 40:\n",
    "    pay = (40.0 * fr) + ((fh-40) * (fr * 1.5))\n",
    "else:\n",
    "    pay = fh * fr\n",
    "print('Total pay:', pay)"
   ]
  },
  {
   "cell_type": "code",
   "execution_count": null,
   "metadata": {},
   "outputs": [],
   "source": [
    "# alternative using pyinputplus\n",
    "\n",
    "import pyinputplus as pyinp\n",
    "\n",
    "pyinp.inputNum(prompt = 'Enter Hours: ')\n",
    "pyinp.inputNum(prompt = 'Enter Rate: ')"
   ]
  },
  {
   "cell_type": "markdown",
   "metadata": {},
   "source": [
    "____"
   ]
  },
  {
   "cell_type": "markdown",
   "metadata": {},
   "source": [
    "### Week 6 Lecture Practice Code: Functions"
   ]
  },
  {
   "cell_type": "code",
   "execution_count": 16,
   "metadata": {},
   "outputs": [
    {
     "name": "stdout",
     "output_type": "stream",
     "text": [
      "Hello\n",
      "Fun\n"
     ]
    }
   ],
   "source": [
    "# sample function\n",
    "def thing():\n",
    "    print('Hello')\n",
    "    print('Fun')\n",
    "\n",
    "thing()"
   ]
  },
  {
   "cell_type": "code",
   "execution_count": 17,
   "metadata": {},
   "outputs": [
    {
     "name": "stdout",
     "output_type": "stream",
     "text": [
      "w\n"
     ]
    }
   ],
   "source": [
    "# example of built in function max and min\n",
    "big = max('Hello world')\n",
    "print(big)\n",
    "\n",
    "# print() and input() are some of the other functions used before"
   ]
  },
  {
   "cell_type": "code",
   "execution_count": 18,
   "metadata": {},
   "outputs": [
    {
     "name": "stdout",
     "output_type": "stream",
     "text": [
      "5\n"
     ]
    }
   ],
   "source": [
    "# using parmeters. here when calling function, you enter two parameters\n",
    "# x & y. The function then adds these two values together and prints the result\n",
    "def addition(x, y):\n",
    "    z = x + y\n",
    "    print(z)\n",
    "    \n",
    "addition(2, 3)"
   ]
  },
  {
   "cell_type": "code",
   "execution_count": null,
   "metadata": {},
   "outputs": [],
   "source": [
    "# function requires name and lang (en/fr) input and prints greeting in the user defined lang parameter input\n",
    "def greet(name, lang):\n",
    "    if lang == 'en':\n",
    "        print('Hello', name)\n",
    "    elif lang == 'fr':\n",
    "        print('Bonjour', name)\n",
    "\n",
    "greet('Altaaf', 'fr')"
   ]
  },
  {
   "cell_type": "code",
   "execution_count": null,
   "metadata": {},
   "outputs": [],
   "source": [
    "# return statement\n",
    "def greet():\n",
    "    return 'Hello'\n",
    "\n",
    "print(greet(), 'Altaaf')"
   ]
  },
  {
   "cell_type": "code",
   "execution_count": null,
   "metadata": {},
   "outputs": [],
   "source": [
    "# greeting example using return statement\n",
    "def greet(lang):\n",
    "    if lang == 'en':\n",
    "        return('Hello!')\n",
    "    elif lang == 'fr':\n",
    "        return('Bonjour!')\n",
    "    elif lang == 'fj':\n",
    "        return('Bula!')\n",
    "        \n",
    "print(greet('fj'), 'Altaaf')"
   ]
  },
  {
   "cell_type": "markdown",
   "metadata": {},
   "source": [
    "__________"
   ]
  },
  {
   "cell_type": "markdown",
   "metadata": {},
   "source": [
    "### Week 6 Lecture Practice Code: Loops and Iterations"
   ]
  },
  {
   "cell_type": "code",
   "execution_count": 23,
   "metadata": {},
   "outputs": [
    {
     "name": "stdout",
     "output_type": "stream",
     "text": [
      "5\n",
      "4\n",
      "3\n",
      "2\n",
      "1\n",
      "0\n",
      "Blastoff!\n"
     ]
    }
   ],
   "source": [
    "# example of a while loop\n",
    "n = 5\n",
    "while n > 0:\n",
    "    print(n)\n",
    "    n = n - 1\n",
    "print(n)\n",
    "print('Blastoff!')"
   ]
  },
  {
   "cell_type": "code",
   "execution_count": 24,
   "metadata": {},
   "outputs": [
    {
     "name": "stdout",
     "output_type": "stream",
     "text": [
      "5\n",
      "4\n",
      "3\n",
      "2\n",
      "1\n",
      "Blastoff!\n"
     ]
    }
   ],
   "source": [
    "# same example as a for loop\n",
    "for i in [5, 4, 3, 2, 1]:\n",
    "    print(i)\n",
    "print('Blastoff!')"
   ]
  },
  {
   "cell_type": "code",
   "execution_count": 25,
   "metadata": {},
   "outputs": [
    {
     "name": "stdout",
     "output_type": "stream",
     "text": [
      "Happy New Year Adam\n",
      "Happy New Year Bob\n",
      "Happy New Year Tom\n",
      "Greetings done\n"
     ]
    }
   ],
   "source": [
    "# another for loop example\n",
    "\n",
    "# list of friends\n",
    "friends = ['Adam', 'Bob', 'Tom']\n",
    "\n",
    "# friend is iteration variable that goes through list of friends\n",
    "for friend in friends:\n",
    "    print('Happy New Year', friend)\n",
    "print('Greetings done')"
   ]
  },
  {
   "cell_type": "code",
   "execution_count": 26,
   "metadata": {},
   "outputs": [
    {
     "name": "stdout",
     "output_type": "stream",
     "text": [
      "Before -1\n",
      "3 3\n",
      "41 41\n",
      "41 12\n",
      "41 9\n",
      "74 74\n",
      "74 15\n",
      "After 74\n"
     ]
    }
   ],
   "source": [
    "# Finding the Largest Value\n",
    "\n",
    "largest_so_far = -1 \n",
    "print('Before', largest_so_far)\n",
    "\n",
    "for the_num in [3, 41, 12, 9, 74, 15]:\n",
    "    if the_num > largest_so_far:\n",
    "        largest_so_far = the_num\n",
    "    print(largest_so_far, the_num)\n",
    "\n",
    "print('After', largest_so_far)"
   ]
  },
  {
   "cell_type": "code",
   "execution_count": 27,
   "metadata": {},
   "outputs": [
    {
     "name": "stdout",
     "output_type": "stream",
     "text": [
      "Before None\n",
      "9 9\n",
      "9 41\n",
      "9 12\n",
      "3 3\n",
      "3 74\n",
      "3 15\n",
      "After 3\n"
     ]
    }
   ],
   "source": [
    "# Finding the Smallest Value\n",
    "\n",
    "smallest_so_far = None\n",
    "print('Before', smallest_so_far)\n",
    "\n",
    "for the_num in [9, 41, 12, 3, 74, 15]:\n",
    "    if smallest_so_far is None:\n",
    "            smallest_so_far = the_num\n",
    "    elif the_num < smallest_so_far:\n",
    "        smallest_so_far = the_num\n",
    "    print(smallest_so_far, the_num)\n",
    "\n",
    "print('After', smallest_so_far)"
   ]
  },
  {
   "cell_type": "code",
   "execution_count": 28,
   "metadata": {},
   "outputs": [
    {
     "name": "stdout",
     "output_type": "stream",
     "text": [
      "Before 0\n",
      "1 3\n",
      "2 41\n",
      "3 12\n",
      "4 9\n",
      "5 74\n",
      "6 15\n",
      "After 6\n"
     ]
    }
   ],
   "source": [
    "# counting in a loop\n",
    "\n",
    "zork_cnt = 0 \n",
    "print('Before', zork_cnt)\n",
    "\n",
    "for the_num in [3, 41, 12, 9, 74, 15]:\n",
    "    zork_cnt = zork_cnt + 1\n",
    "    print(zork_cnt, the_num)\n",
    "\n",
    "print('After', zork_cnt)"
   ]
  },
  {
   "cell_type": "code",
   "execution_count": 29,
   "metadata": {},
   "outputs": [
    {
     "name": "stdout",
     "output_type": "stream",
     "text": [
      "Before 0\n",
      "3 3\n",
      "44 41\n",
      "56 12\n",
      "65 9\n",
      "139 74\n",
      "154 15\n",
      "After 154\n"
     ]
    }
   ],
   "source": [
    "# summing in a loop\n",
    "\n",
    "zork_sum = 0 \n",
    "print('Before', zork_sum)\n",
    "\n",
    "for the_num in [3, 41, 12, 9, 74, 15]:\n",
    "    zork_sum = zork_sum + the_num\n",
    "    print(zork_sum, the_num)\n",
    "\n",
    "print('After', zork_sum)"
   ]
  },
  {
   "cell_type": "code",
   "execution_count": 30,
   "metadata": {},
   "outputs": [
    {
     "name": "stdout",
     "output_type": "stream",
     "text": [
      "Before 0 0\n",
      "1 3 3\n",
      "2 44 41\n",
      "3 56 12\n",
      "4 65 9\n",
      "5 139 74\n",
      "6 154 15\n",
      "After 6 154 25.666666666666668\n"
     ]
    }
   ],
   "source": [
    "# finding the average in a lopp\n",
    "\n",
    "count = 0\n",
    "sum = 0\n",
    "\n",
    "print('Before', count, sum)\n",
    "for value in [3, 41, 12, 9, 74, 15]:\n",
    "    count = count + 1\n",
    "    sum = sum + value\n",
    "    print(count, sum, value)\n",
    "\n",
    "print('After', count, sum, sum / count)"
   ]
  },
  {
   "cell_type": "code",
   "execution_count": 31,
   "metadata": {},
   "outputs": [
    {
     "name": "stdout",
     "output_type": "stream",
     "text": [
      "Before False\n",
      "False 9\n",
      "False 41\n",
      "False 12\n",
      "After True\n"
     ]
    }
   ],
   "source": [
    "# boolean example\n",
    "\n",
    "found = False\n",
    "\n",
    "print('Before', found)\n",
    "\n",
    "for value in [9, 41, 12, 3, 74, 15]:\n",
    "    if value == 3:\n",
    "        found = True\n",
    "        break\n",
    "    print(found, value)\n",
    "print('After', found)"
   ]
  },
  {
   "cell_type": "markdown",
   "metadata": {},
   "source": [
    "___"
   ]
  }
 ],
 "metadata": {
  "interpreter": {
   "hash": "133602682ceac8dbac470470852ca2735ced8cf8e0bdd97a4df2a7e33d23d50b"
  },
  "kernelspec": {
   "display_name": "Python 3.10.4 64-bit",
   "language": "python",
   "name": "python3"
  },
  "language_info": {
   "codemirror_mode": {
    "name": "ipython",
    "version": 3
   },
   "file_extension": ".py",
   "mimetype": "text/x-python",
   "name": "python",
   "nbconvert_exporter": "python",
   "pygments_lexer": "ipython3",
   "version": "3.10.4"
  },
  "orig_nbformat": 4
 },
 "nbformat": 4,
 "nbformat_minor": 2
}
