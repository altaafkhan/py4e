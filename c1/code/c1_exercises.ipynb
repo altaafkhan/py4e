{
 "cells": [
  {
   "cell_type": "markdown",
   "metadata": {},
   "source": [
    "### Python for Everybody\n",
    "#### C1: Programming for Everybody"
   ]
  },
  {
   "cell_type": "markdown",
   "metadata": {},
   "source": [
    "### Week 4 Exercises: Variables and Expressions\n",
    "These exercises are from: https://www.py4e.com/html3/02-variables"
   ]
  },
  {
   "cell_type": "markdown",
   "metadata": {},
   "source": [
    "Exercise 2: Write a program that uses input to prompt a user for their name and then welcomes them.\n",
    "```{python}\n",
    "Enter your name: Chuck\n",
    "Hello Chuck\n",
    "```"
   ]
  },
  {
   "cell_type": "code",
   "execution_count": 3,
   "metadata": {},
   "outputs": [
    {
     "name": "stdout",
     "output_type": "stream",
     "text": [
      "Hello Chuck\n"
     ]
    }
   ],
   "source": [
    "name = input('Enter your name:')\n",
    "print('Hello', name)"
   ]
  },
  {
   "cell_type": "markdown",
   "metadata": {},
   "source": [
    "Exercise 3: Write a program to prompt the user for hours and rate per hour to compute gross pay.\n",
    "```{python}\n",
    "Enter Hours: 35\n",
    "Enter Rate: 2.75\n",
    "Pay: 96.25\n",
    "```\n",
    "We won’t worry about making sure our pay has exactly two digits after the decimal place for now. If you want, you can play with the built-in Python round function to properly round the resulting pay to two decimal places."
   ]
  },
  {
   "cell_type": "code",
   "execution_count": 4,
   "metadata": {},
   "outputs": [
    {
     "name": "stdout",
     "output_type": "stream",
     "text": [
      "Pay: 96.25\n"
     ]
    }
   ],
   "source": [
    "hrs = input('Enter Hours:')\n",
    "rate = input('Enter Rate:')\n",
    "\n",
    "try:\n",
    "    fh = float(hrs)\n",
    "    fr = float(rate)\n",
    "except:\n",
    "    print('Please enter numeric value')\n",
    "\n",
    "pay = fh * fr\n",
    "print('Pay:', pay)"
   ]
  },
  {
   "cell_type": "markdown",
   "metadata": {},
   "source": [
    "Exercise 4: Assume that we execute the following assignment statements:\n",
    "```{python}\n",
    "width = 17\n",
    "height = 12.0\n",
    "```\n",
    "For each of the following expressions, write the value of the expression and the type (of the value of the expression)."
   ]
  },
  {
   "cell_type": "code",
   "execution_count": 5,
   "metadata": {},
   "outputs": [
    {
     "name": "stdout",
     "output_type": "stream",
     "text": [
      "8\n",
      "8.5\n",
      "4.0\n",
      "11\n"
     ]
    }
   ],
   "source": [
    "width = 17\n",
    "height = 12.0\n",
    "\n",
    "print(width//2)\n",
    "print(width/2.0)\n",
    "print(height/3)\n",
    "print(1 + 2 * 5)"
   ]
  },
  {
   "cell_type": "markdown",
   "metadata": {},
   "source": [
    "Exercise 5: Write a program which prompts the user for a Celsius temperature, convert the temperature to Fahrenheit, and print out the converted temperature.\n",
    "```{python}\n",
    "°F = (°C × 9/5) + 32\n",
    "```"
   ]
  },
  {
   "cell_type": "code",
   "execution_count": 6,
   "metadata": {},
   "outputs": [
    {
     "name": "stdout",
     "output_type": "stream",
     "text": [
      "45 Celsius (°C) is 113.0 Fahrenheit (°F)\n"
     ]
    }
   ],
   "source": [
    "cels = input('Enter temperature in Celsius:')\n",
    "\n",
    "try:\n",
    "    c = float(cels)\n",
    "except:\n",
    "    print('Please enter a numeric value...')\n",
    "\n",
    "fah = (c * (9/5)) + 32\n",
    "print(cels, 'Celsius (°C) is', round(fah, 2), 'Fahrenheit (°F)')\n"
   ]
  },
  {
   "cell_type": "markdown",
   "metadata": {},
   "source": [
    "___"
   ]
  },
  {
   "cell_type": "markdown",
   "metadata": {},
   "source": [
    "### Week 5 Exercises: Conditional Statements\n",
    "These exercises are from: https://www.py4e.com/html3/03-conditional"
   ]
  },
  {
   "cell_type": "markdown",
   "metadata": {},
   "source": [
    "Exercise 1: Rewrite your pay computation to give the employee 1.5 times the hourly rate for hours worked above 40 hours.\n",
    "```{python}\n",
    "Enter Hours: 45\n",
    "Enter Rate: 10\n",
    "Pay: 475.0\n",
    "```\n",
    "Exercise 2: Rewrite your pay program using try and except so that your program handles non-numeric input gracefully by printing a message and exiting the program. The following shows two executions of the program:\n",
    "```{python}\n",
    "Enter Hours: 20\n",
    "Enter Rate: nine\n",
    "```\n",
    "```{python}\n",
    "Error, please enter numeric input\n",
    "Enter Hours: forty\n",
    "Error, please enter numeric input\n",
    "```"
   ]
  },
  {
   "cell_type": "code",
   "execution_count": 1,
   "metadata": {},
   "outputs": [
    {
     "name": "stdout",
     "output_type": "stream",
     "text": [
      "Pay: 475.0\n"
     ]
    }
   ],
   "source": [
    "# Combined EQ1 & EQ2 into one program code\n",
    "\n",
    "# regular hours and overtime rate\n",
    "rh = 40.0\n",
    "ort = 1.5\n",
    "\n",
    "hrs = input('Enter Hours:')\n",
    "rate = input('Enter Rate:')\n",
    "\n",
    "try:\n",
    "    fh = float(hrs)\n",
    "    fr = float(rate)\n",
    "except:\n",
    "    print('Error, please enter numeric input')\n",
    "    quit()\n",
    "\n",
    "if fh <= rh:\n",
    "    pay = fh * fr\n",
    "else:\n",
    "    pay = (rh * fr) + ((fh - rh) * (fr * ort))\n",
    "\n",
    "print('Pay:', pay)"
   ]
  },
  {
   "cell_type": "markdown",
   "metadata": {},
   "source": [
    "Exercise 3: Write a program to prompt for a score between 0.0 and 1.0. If the score is out of range, print an error message. If the score is between 0.0 and 1.0, print a grade using the following table:\n",
    "```{python}\n",
    " Score   Grade\n",
    ">= 0.9     A\n",
    ">= 0.8     B\n",
    ">= 0.7     C\n",
    ">= 0.6     D\n",
    " < 0.6     F\n",
    "```\n",
    "```{python}\n",
    "Enter score: 0.95\n",
    "A\n",
    "```\n",
    "```{python}\n",
    "Enter score: perfect\n",
    "Bad score\n",
    "```\n",
    "```{python}\n",
    "Enter score: 10.0\n",
    "Bad score\n",
    "```\n",
    "```{python}\n",
    "Enter score: 0.75\n",
    "C\n",
    "```\n",
    "```{python}\n",
    "Enter score: 0.5\n",
    "F\n",
    "```\n",
    "Run the program repeatedly as shown above to test the various different values for input."
   ]
  },
  {
   "cell_type": "code",
   "execution_count": 6,
   "metadata": {},
   "outputs": [
    {
     "name": "stdout",
     "output_type": "stream",
     "text": [
      "F\n"
     ]
    }
   ],
   "source": [
    "score = input('Enter a score between 0.0 and 1.0')\n",
    "\n",
    "try:\n",
    "    scr = float(score)\n",
    "    if scr < 0 or scr > 1:\n",
    "        print(score, 'is a bad score')\n",
    "except:\n",
    "    print(score, 'is a bad score')\n",
    "\n",
    "if scr >= 0.9:\n",
    "    print('A')\n",
    "elif scr >= 0.8:\n",
    "    print('B')\n",
    "elif scr >= 0.7:\n",
    "    print('C')\n",
    "elif scr >= 0.6:\n",
    "    print('D')\n",
    "elif scr < 0.6:\n",
    "    print('F')\n",
    "else:\n",
    "    print('Grade error')"
   ]
  },
  {
   "cell_type": "markdown",
   "metadata": {},
   "source": [
    "___"
   ]
  },
  {
   "cell_type": "markdown",
   "metadata": {},
   "source": [
    "### Week 6 Exercises: Functions\n",
    "These exercises are from: https://www.py4e.com/html3/04-functions"
   ]
  },
  {
   "cell_type": "markdown",
   "metadata": {},
   "source": [
    "Exercise 6: Rewrite your pay computation with time-and-a-half for overtime and create a function called computepay which takes two parameters (hours and rate).\n",
    "```{python}\n",
    "Enter Hours: 45\n",
    "Enter Rate: 10\n",
    "Pay: 475.0\n",
    "```"
   ]
  },
  {
   "cell_type": "code",
   "execution_count": 7,
   "metadata": {},
   "outputs": [
    {
     "name": "stdout",
     "output_type": "stream",
     "text": [
      "Pay: 475.0\n"
     ]
    }
   ],
   "source": [
    "def computepay(hour, rate):\n",
    "\n",
    "# regular hours and overtime rate\n",
    "    rh = 40.0\n",
    "    ort = 1.5\n",
    "\n",
    "    try:\n",
    "        fh = float(hour)\n",
    "        fr = float(rate)\n",
    "    except:\n",
    "        print('Error, please enter numeric input')\n",
    "        quit()\n",
    "\n",
    "    if fh <= rh:\n",
    "        pay = fh * fr\n",
    "    else:\n",
    "        pay = (rh * fr) + ((fh - rh) * (fr * ort))\n",
    "\n",
    "    print('Pay:', pay)\n",
    "\n",
    "# prompt user to enter hours and rate\n",
    "hour = input('Enter Hours:')\n",
    "rate = input('Enter Rate:')\n",
    "\n",
    "# call computepay function\n",
    "computepay(hour, rate)"
   ]
  },
  {
   "cell_type": "markdown",
   "metadata": {},
   "source": [
    "Exercise 7: Rewrite the grade program from the previous chapter using a function called computegrade that takes a score as its parameter and returns a grade as a string.\n",
    "```{python}\n",
    " Score   Grade\n",
    ">= 0.9     A\n",
    ">= 0.8     B\n",
    ">= 0.7     C\n",
    ">= 0.6     D\n",
    " < 0.6     F\n",
    "```\n",
    "```{python} \n",
    "Enter score: 0.95\n",
    "A\n",
    "```\n",
    "```{python}\n",
    "Enter score: perfect\n",
    "Bad score\n",
    "```\n",
    "```{python}\n",
    "Enter score: 10.0\n",
    "Bad score\n",
    "```\n",
    "```{python}\n",
    "Enter score: 0.75\n",
    "C\n",
    "```\n",
    "```{python}\n",
    "Enter score: 0.5\n",
    "F\n",
    "```\n",
    "Run the program repeatedly to test the various different values for input."
   ]
  },
  {
   "cell_type": "code",
   "execution_count": 11,
   "metadata": {},
   "outputs": [
    {
     "name": "stdout",
     "output_type": "stream",
     "text": [
      "F\n"
     ]
    }
   ],
   "source": [
    "def computegrade(score):\n",
    "    try:\n",
    "        scr = float(score)\n",
    "        if scr < 0 or scr > 1:\n",
    "            print(score, 'is a bad score')\n",
    "    except:\n",
    "        print(score, 'is a bad score')\n",
    "\n",
    "    if scr >= 0.9:\n",
    "        print('A')\n",
    "    elif scr >= 0.8:\n",
    "        print('B')\n",
    "    elif scr >= 0.7:\n",
    "        print('C')\n",
    "    elif scr >= 0.6:\n",
    "        print('D')\n",
    "    elif scr < 0.6:\n",
    "        print('F')\n",
    "    else:\n",
    "        print('Grade error')\n",
    "\n",
    "# prompt user score input\n",
    "score = input('Enter a score between 0.0 and 1.0')\n",
    "\n",
    "# call function\n",
    "computegrade(score)"
   ]
  },
  {
   "cell_type": "markdown",
   "metadata": {},
   "source": [
    "_____"
   ]
  },
  {
   "cell_type": "markdown",
   "metadata": {},
   "source": [
    "### Week 5 Exercises: Loops and Iterations\n",
    "These exercises are from: https://www.py4e.com/html3/05-iterations"
   ]
  },
  {
   "cell_type": "markdown",
   "metadata": {},
   "source": [
    "Exercise 1: Write a program which repeatedly reads numbers until the user enters “done”. Once “done” is entered, print out the total, count, and average of the numbers. If the user enters anything other than a number, detect their mistake using try and except and print an error message and skip to the next number.\n",
    "```{python}\n",
    "Enter a number: 4\n",
    "Enter a number: 5\n",
    "Enter a number: bad data\n",
    "Invalid input\n",
    "Enter a number: 7\n",
    "Enter a number: done\n",
    "16 3 5.333333333333333\n",
    "```"
   ]
  },
  {
   "cell_type": "code",
   "execution_count": 12,
   "metadata": {},
   "outputs": [
    {
     "name": "stdout",
     "output_type": "stream",
     "text": [
      "Invalid input\n",
      "16.0 3 5.333333333333333\n"
     ]
    }
   ],
   "source": [
    "sum = 0.0\n",
    "cnt = 0\n",
    "\n",
    "while True:\n",
    "    num = input('Enter a number:')\n",
    "    if num == 'done':\n",
    "        break\n",
    "\n",
    "    try:\n",
    "        n = float(num)\n",
    "    except:\n",
    "        print('Invalid input')\n",
    "        continue\n",
    "    \n",
    "    if sum == 0.0:\n",
    "        sum = n\n",
    "    else:\n",
    "        sum = sum + n\n",
    "\n",
    "    cnt = cnt + 1\n",
    "\n",
    "print(sum, cnt, (float(sum) / float(cnt)))"
   ]
  },
  {
   "cell_type": "markdown",
   "metadata": {},
   "source": [
    "Exercise 2: Write another program that prompts for a list of numbers as above and at the end prints out both the maximum and minimum of the numbers instead of the average."
   ]
  },
  {
   "cell_type": "code",
   "execution_count": 13,
   "metadata": {},
   "outputs": [
    {
     "name": "stdout",
     "output_type": "stream",
     "text": [
      "Invalid input\n",
      "Smallest number: 4\n",
      "Largest number: 7\n"
     ]
    }
   ],
   "source": [
    "large = None\n",
    "small = None\n",
    "\n",
    "while True:\n",
    "    num = input('Enter a number:')\n",
    "    if num == 'done':\n",
    "        break\n",
    "\n",
    "    try:\n",
    "        n = int(num)\n",
    "    except:\n",
    "        print('Invalid input')\n",
    "        continue\n",
    "    \n",
    "    if large == None or num > large:\n",
    "        large = num\n",
    "    \n",
    "    if small == None or num < small:\n",
    "        small = num \n",
    "\n",
    "print('Smallest number:', small)\n",
    "print('Largest number:', large)\n",
    "\n"
   ]
  },
  {
   "cell_type": "markdown",
   "metadata": {},
   "source": [
    "____"
   ]
  }
 ],
 "metadata": {
  "interpreter": {
   "hash": "133602682ceac8dbac470470852ca2735ced8cf8e0bdd97a4df2a7e33d23d50b"
  },
  "kernelspec": {
   "display_name": "Python 3.10.4 64-bit",
   "language": "python",
   "name": "python3"
  },
  "language_info": {
   "codemirror_mode": {
    "name": "ipython",
    "version": 3
   },
   "file_extension": ".py",
   "mimetype": "text/x-python",
   "name": "python",
   "nbconvert_exporter": "python",
   "pygments_lexer": "ipython3",
   "version": "3.10.4"
  },
  "orig_nbformat": 4
 },
 "nbformat": 4,
 "nbformat_minor": 2
}
