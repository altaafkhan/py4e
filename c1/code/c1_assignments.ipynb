{
 "cells": [
  {
   "cell_type": "markdown",
   "metadata": {},
   "source": [
    "# Python for Everybody"
   ]
  },
  {
   "cell_type": "markdown",
   "metadata": {},
   "source": [
    "## C1: Programming for Everybody"
   ]
  },
  {
   "cell_type": "markdown",
   "metadata": {},
   "source": [
    "### Assignment Week 4: Variables and Expressions"
   ]
  },
  {
   "cell_type": "markdown",
   "metadata": {},
   "source": [
    "Write a program to prompt the user for hours and rate per hour using input to compute gross pay. Use 35 hours and a rate of 2.75 per hour to test the program (the pay should be 96.25). You should use input to read a string and float() to convert the string to a number. Do not worry about error checking or bad user data."
   ]
  },
  {
   "cell_type": "code",
   "execution_count": 1,
   "metadata": {},
   "outputs": [
    {
     "name": "stdout",
     "output_type": "stream",
     "text": [
      "Pay: 96.25\n"
     ]
    }
   ],
   "source": [
    "hrs = input(\"Enter Hours:\")\n",
    "pay = float(hrs) * 2.75\n",
    "print('Pay:', pay)"
   ]
  },
  {
   "cell_type": "markdown",
   "metadata": {},
   "source": [
    "____"
   ]
  },
  {
   "cell_type": "markdown",
   "metadata": {},
   "source": [
    "### Assignment Week 5: Conditional Statements"
   ]
  },
  {
   "cell_type": "markdown",
   "metadata": {},
   "source": [
    "3.1 Write a program to prompt the user for hours and rate per hour using input to compute gross pay. Pay the hourly rate for the hours up to 40 and 1.5 times the hourly rate for all hours worked above 40 hours. Use 45 hours and a rate of 10.50 per hour to test the program (the pay should be 498.75). You should use **input** to read a string and **float()** to convert the string to a number. Do not worry about error checking the user input - assume the user types numbers properly."
   ]
  },
  {
   "cell_type": "code",
   "execution_count": 2,
   "metadata": {},
   "outputs": [
    {
     "name": "stdout",
     "output_type": "stream",
     "text": [
      "Total pay: 498.75\n"
     ]
    }
   ],
   "source": [
    "hrs = input(\"Enter Hours:\")\n",
    "rate = input(\"Enter Rate:\")\n",
    "\n",
    "# convert hours to float\n",
    "h = float(hrs)\n",
    "r = float(rate)\n",
    "\n",
    "if h > 40:\n",
    "    pay = (40.0 * r) + ((h-40) * (r * 1.5))\n",
    "else:\n",
    "    pay = h * r\n",
    "print('Total pay:', pay)"
   ]
  },
  {
   "cell_type": "markdown",
   "metadata": {},
   "source": [
    "3.3 Write a program to prompt for a score between 0.0 and 1.0. If the score is out of range, print an error. If the score is between 0.0 and 1.0, print a grade using the following table:\n",
    "```{python}\n",
    "Score Grade\n",
    ">= 0.9 A\n",
    ">= 0.8 B\n",
    ">= 0.7 C\n",
    ">= 0.6 D\n",
    "< 0.6 F\n",
    "```\n",
    "If the user enters a value out of range, print a suitable error message and exit. For the test, enter a score of 0.85."
   ]
  },
  {
   "cell_type": "code",
   "execution_count": 4,
   "metadata": {},
   "outputs": [
    {
     "name": "stdout",
     "output_type": "stream",
     "text": [
      "0.85 is a valid scaore\n",
      "B\n",
      "Finito!\n"
     ]
    }
   ],
   "source": [
    "# prompt user to enter a score\n",
    "score = input('Enter a score between 0.0 and 1.0')\n",
    "\n",
    "#convert input to float\n",
    "s = float(score)\n",
    "\n",
    "# validate score entered is in expected range and print message\n",
    "if s < 0.0 or s > 1.0:\n",
    "    print('Score', score, 'is not between 0.0 and 1.0. Try again!')\n",
    "else:\n",
    "    print(score, 'is a valid scaore')\n",
    "\n",
    "# determine score grade\n",
    "if s >= 0.9:\n",
    "    print('A')\n",
    "elif s >= 0.8:\n",
    "    print('B')\n",
    "elif s >= 0.7:\n",
    "    print('C')\n",
    "elif s >= 0.6:\n",
    "    print('D')\n",
    "elif s < 0.6:\n",
    "    print('F')\n",
    "print('Finito!')\n"
   ]
  },
  {
   "cell_type": "markdown",
   "metadata": {},
   "source": [
    "___"
   ]
  },
  {
   "cell_type": "markdown",
   "metadata": {},
   "source": [
    "### Assignment Week 6: Functions"
   ]
  },
  {
   "cell_type": "markdown",
   "metadata": {},
   "source": [
    "4.6 Write a program to prompt the user for hours and rate per hour using input to compute gross pay. Pay should be the normal rate for hours up to 40 and time-and-a-half for the hourly rate for all hours worked above 40 hours. Put the logic to do the computation of pay in a function called **computepay()** and use the function to do the computation. The function should return a value. Use 45 hours and a rate of 10.50 per hour to test the program (the pay should be 498.75). You should use **input** to read a string and **float()** to convert the string to a number. Do not worry about error checking the user input unless you want to - you can assume the user types numbers properly. Do not name your variable sum or use the sum() function."
   ]
  },
  {
   "cell_type": "code",
   "execution_count": 6,
   "metadata": {},
   "outputs": [
    {
     "name": "stdout",
     "output_type": "stream",
     "text": [
      "Pay 498.75\n"
     ]
    }
   ],
   "source": [
    "# solution 1a: using code provided as starting block\n",
    "def computepay(h, r):\n",
    "    if h == 40.0:\n",
    "        return(h * r)\n",
    "    elif h > 40.0:\n",
    "        return(((40.0 * r) + ((h-40.0) * (r * 1.5))))\n",
    "    return 42.37\n",
    "\n",
    "hrs = input(\"Enter Hours:\")\n",
    "rate = input(\"Enter Rate:\")\n",
    "\n",
    "h = float(hrs)\n",
    "r = float(rate)\n",
    "\n",
    "p = computepay(h, r)\n",
    "print(\"Pay\", p)"
   ]
  },
  {
   "cell_type": "code",
   "execution_count": 7,
   "metadata": {},
   "outputs": [
    {
     "name": "stdout",
     "output_type": "stream",
     "text": [
      "Pay 498.75\n"
     ]
    }
   ],
   "source": [
    "# solution 1b: \n",
    "def computepay(hrs, rate):\n",
    "\n",
    "    h = float(hrs)\n",
    "    r = float(rate)\n",
    "\n",
    "    if h == 40.0:\n",
    "        return(h * r)\n",
    "    elif h > 40.0:\n",
    "        return(((40.0 * r) + ((h-40.0) * (r * 1.5))))\n",
    "    return 42.37\n",
    "\n",
    "p = computepay(input(\"Enter Hours:\"), input(\"Enter Rate:\"))\n",
    "print(\"Pay\", p)"
   ]
  },
  {
   "cell_type": "code",
   "execution_count": 9,
   "metadata": {},
   "outputs": [
    {
     "name": "stdout",
     "output_type": "stream",
     "text": [
      "Enter hours:Enter rate:Pay 498.75\n"
     ]
    }
   ],
   "source": [
    "# solution 2: using pyinputplus to ensure user enters valid input\n",
    "import pyinputplus as pyinp\n",
    "\n",
    "def compute_pay():\n",
    "    if fh == 40.0:\n",
    "        pay = fh * fr\n",
    "        return(pay)\n",
    "    elif fh > 40.0:\n",
    "        pay = ((40.0 * fr) + ((fh-40.0) * (fr * 1.5)))\n",
    "        return(pay)\n",
    "\n",
    "# request input for hours and rate\n",
    "fh = pyinp.inputNum(prompt='Enter hours:')\n",
    "fr = pyinp.inputNum(prompt='Enter rate:')\n",
    "\n",
    "print('Pay', compute_pay())"
   ]
  },
  {
   "cell_type": "markdown",
   "metadata": {},
   "source": [
    "___"
   ]
  },
  {
   "cell_type": "markdown",
   "metadata": {},
   "source": [
    "### Assignment Week 6: Loops and Iterations"
   ]
  },
  {
   "cell_type": "markdown",
   "metadata": {},
   "source": [
    "5.2 Write a program that repeatedly prompts a user for integer numbers until the user enters 'done'. Once 'done' is entered, print out the largest and smallest of the numbers. If the user enters anything other than a valid number catch it with a try/except and put out an appropriate message and ignore the number. Enter 7, 2, bob, 10, and 4 and match the output below."
   ]
  },
  {
   "cell_type": "code",
   "execution_count": 10,
   "metadata": {},
   "outputs": [
    {
     "name": "stdout",
     "output_type": "stream",
     "text": [
      "Invalid input\n",
      "Maximum is 10\n",
      "Minimum is 2\n"
     ]
    }
   ],
   "source": [
    "largest = None\n",
    "smallest = None\n",
    "\n",
    "while True:\n",
    "    num = input(\"Enter a number: \")\n",
    "    if num == \"done\":\n",
    "        break\n",
    "    try:\n",
    "        inum = int(num)\n",
    "    except:\n",
    "        print('Invalid input')\n",
    "\n",
    "    if largest is None:\n",
    "        largest = inum\n",
    "    elif inum > largest:\n",
    "        largest = inum\n",
    "\n",
    "    if smallest is None:\n",
    "        smallest = inum\n",
    "    elif inum < smallest:\n",
    "        smallest = inum\n",
    "\n",
    "print(\"Maximum is\", largest)\n",
    "print(\"Minimum is\", smallest)"
   ]
  },
  {
   "cell_type": "markdown",
   "metadata": {},
   "source": [
    "___"
   ]
  }
 ],
 "metadata": {
  "interpreter": {
   "hash": "133602682ceac8dbac470470852ca2735ced8cf8e0bdd97a4df2a7e33d23d50b"
  },
  "kernelspec": {
   "display_name": "Python 3.10.4 64-bit",
   "language": "python",
   "name": "python3"
  },
  "language_info": {
   "codemirror_mode": {
    "name": "ipython",
    "version": 3
   },
   "file_extension": ".py",
   "mimetype": "text/x-python",
   "name": "python",
   "nbconvert_exporter": "python",
   "pygments_lexer": "ipython3",
   "version": "3.10.4"
  },
  "orig_nbformat": 4
 },
 "nbformat": 4,
 "nbformat_minor": 2
}
