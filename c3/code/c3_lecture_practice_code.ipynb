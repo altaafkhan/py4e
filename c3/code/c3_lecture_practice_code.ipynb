{
 "cells": [
  {
   "cell_type": "markdown",
   "metadata": {},
   "source": [
    "# Python for Everybody\n",
    "## C3: Using Python to Access Web Data"
   ]
  },
  {
   "cell_type": "markdown",
   "metadata": {},
   "source": [
    "### Week 2 Lecture Practice Code: Regular Expressions"
   ]
  },
  {
   "cell_type": "code",
   "execution_count": 2,
   "metadata": {},
   "outputs": [
    {
     "name": "stdout",
     "output_type": "stream",
     "text": [
      "From: stephen.marquard@uct.ac.za\n",
      "From: louis@media.berkeley.edu\n",
      "From: zqian@umich.edu\n",
      "From: rjlowe@iupui.edu\n",
      "From: zqian@umich.edu\n",
      "From: rjlowe@iupui.edu\n",
      "From: cwen@iupui.edu\n",
      "From: cwen@iupui.edu\n",
      "From: gsilver@umich.edu\n",
      "From: gsilver@umich.edu\n",
      "From: zqian@umich.edu\n",
      "From: gsilver@umich.edu\n",
      "From: wagnermr@iupui.edu\n",
      "From: zqian@umich.edu\n",
      "From: antranig@caret.cam.ac.uk\n",
      "From: gopal.ramasammycook@gmail.com\n",
      "From: david.horwitz@uct.ac.za\n",
      "From: david.horwitz@uct.ac.za\n",
      "From: david.horwitz@uct.ac.za\n",
      "From: david.horwitz@uct.ac.za\n",
      "From: stephen.marquard@uct.ac.za\n",
      "From: louis@media.berkeley.edu\n",
      "From: louis@media.berkeley.edu\n",
      "From: ray@media.berkeley.edu\n",
      "From: cwen@iupui.edu\n",
      "From: cwen@iupui.edu\n",
      "From: cwen@iupui.edu\n"
     ]
    }
   ],
   "source": [
    "# string example\n",
    "\n",
    "# open file\n",
    "hand = open('..\\Data\\mbox-short.txt', 'r')\n",
    "\n",
    "# for loop to find and print lines with From:\n",
    "for line in hand:\n",
    "    line = line.rstrip()\n",
    "    if line.find('From:') >= 0:\n",
    "        print(line)"
   ]
  },
  {
   "cell_type": "code",
   "execution_count": 3,
   "metadata": {},
   "outputs": [
    {
     "name": "stdout",
     "output_type": "stream",
     "text": [
      "From: stephen.marquard@uct.ac.za\n",
      "From: louis@media.berkeley.edu\n",
      "From: zqian@umich.edu\n",
      "From: rjlowe@iupui.edu\n",
      "From: zqian@umich.edu\n",
      "From: rjlowe@iupui.edu\n",
      "From: cwen@iupui.edu\n",
      "From: cwen@iupui.edu\n",
      "From: gsilver@umich.edu\n",
      "From: gsilver@umich.edu\n",
      "From: zqian@umich.edu\n",
      "From: gsilver@umich.edu\n",
      "From: wagnermr@iupui.edu\n",
      "From: zqian@umich.edu\n",
      "From: antranig@caret.cam.ac.uk\n",
      "From: gopal.ramasammycook@gmail.com\n",
      "From: david.horwitz@uct.ac.za\n",
      "From: david.horwitz@uct.ac.za\n",
      "From: david.horwitz@uct.ac.za\n",
      "From: david.horwitz@uct.ac.za\n",
      "From: stephen.marquard@uct.ac.za\n",
      "From: louis@media.berkeley.edu\n",
      "From: louis@media.berkeley.edu\n",
      "From: ray@media.berkeley.edu\n",
      "From: cwen@iupui.edu\n",
      "From: cwen@iupui.edu\n",
      "From: cwen@iupui.edu\n"
     ]
    }
   ],
   "source": [
    "# same example using regular expression\n",
    "\n",
    "# import regular expression library\n",
    "import re\n",
    "\n",
    "# open file\n",
    "hand = open('..\\Data\\mbox-short.txt')\n",
    "\n",
    "# for loop to search and print lines starting with From:\n",
    "for line in hand:\n",
    "    line = line.rstrip()\n",
    "    if re.search('From:', line):\n",
    "        print(line)\n"
   ]
  },
  {
   "cell_type": "code",
   "execution_count": 4,
   "metadata": {},
   "outputs": [
    {
     "name": "stdout",
     "output_type": "stream",
     "text": [
      "From: stephen.marquard@uct.ac.za\n",
      "From: louis@media.berkeley.edu\n",
      "From: zqian@umich.edu\n",
      "From: rjlowe@iupui.edu\n",
      "From: zqian@umich.edu\n",
      "From: rjlowe@iupui.edu\n",
      "From: cwen@iupui.edu\n",
      "From: cwen@iupui.edu\n",
      "From: gsilver@umich.edu\n",
      "From: gsilver@umich.edu\n",
      "From: zqian@umich.edu\n",
      "From: gsilver@umich.edu\n",
      "From: wagnermr@iupui.edu\n",
      "From: zqian@umich.edu\n",
      "From: antranig@caret.cam.ac.uk\n",
      "From: gopal.ramasammycook@gmail.com\n",
      "From: david.horwitz@uct.ac.za\n",
      "From: david.horwitz@uct.ac.za\n",
      "From: david.horwitz@uct.ac.za\n",
      "From: david.horwitz@uct.ac.za\n",
      "From: stephen.marquard@uct.ac.za\n",
      "From: louis@media.berkeley.edu\n",
      "From: louis@media.berkeley.edu\n",
      "From: ray@media.berkeley.edu\n",
      "From: cwen@iupui.edu\n",
      "From: cwen@iupui.edu\n",
      "From: cwen@iupui.edu\n"
     ]
    }
   ],
   "source": [
    "# startswith string function equivalent by using ^\n",
    "\n",
    "# import regular expression library\n",
    "import re\n",
    "\n",
    "# open file\n",
    "hand = open('..\\Data\\mbox-short.txt')\n",
    "\n",
    "# for loop to search and print lines starting with From:\n",
    "for line in hand:\n",
    "    line = line.rstrip()\n",
    "    if re.search('^From:', line):\n",
    "        print(line)"
   ]
  },
  {
   "cell_type": "code",
   "execution_count": 8,
   "metadata": {},
   "outputs": [
    {
     "name": "stdout",
     "output_type": "stream",
     "text": [
      "X-Sieve:\n",
      "X-Authentication-Warning:\n",
      "X-Content-Type-Outer-Envelope:\n",
      "X-Content-Type-Message-Body:\n",
      "X-DSPAM-Result:\n",
      "X-DSPAM-Processed:\n",
      "X-DSPAM-Confidence:\n",
      "X-DSPAM-Probability:\n",
      "X-Sieve:\n",
      "X-Authentication-Warning:\n",
      "X-Content-Type-Outer-Envelope:\n",
      "X-Content-Type-Message-Body:\n",
      "X-DSPAM-Result:\n",
      "X-DSPAM-Processed:\n",
      "X-DSPAM-Confidence:\n",
      "X-DSPAM-Probability:\n",
      "X-Sieve:\n",
      "X-Authentication-Warning:\n",
      "X-Content-Type-Outer-Envelope:\n",
      "X-Content-Type-Message-Body:\n",
      "X-DSPAM-Result:\n",
      "X-DSPAM-Processed:\n",
      "X-DSPAM-Confidence:\n",
      "X-DSPAM-Probability:\n",
      "X-Sieve:\n",
      "X-Authentication-Warning:\n",
      "X-Content-Type-Outer-Envelope:\n",
      "X-Content-Type-Message-Body:\n",
      "X-DSPAM-Result:\n",
      "X-DSPAM-Processed:\n",
      "X-DSPAM-Confidence:\n",
      "X-DSPAM-Probability:\n",
      "X-Sieve:\n",
      "X-Authentication-Warning:\n",
      "X-Content-Type-Outer-Envelope:\n",
      "X-Content-Type-Message-Body:\n",
      "X-DSPAM-Result:\n",
      "X-DSPAM-Processed:\n",
      "X-DSPAM-Confidence:\n",
      "X-DSPAM-Probability:\n",
      "X-Sieve:\n",
      "X-Authentication-Warning:\n",
      "X-Content-Type-Outer-Envelope:\n",
      "X-Content-Type-Message-Body:\n",
      "X-DSPAM-Result:\n",
      "X-DSPAM-Processed:\n",
      "X-DSPAM-Confidence:\n",
      "X-DSPAM-Probability:\n",
      "X-Sieve:\n",
      "X-Authentication-Warning:\n",
      "X-Content-Type-Outer-Envelope:\n",
      "X-Content-Type-Message-Body:\n",
      "X-DSPAM-Result:\n",
      "X-DSPAM-Processed:\n",
      "X-DSPAM-Confidence:\n",
      "X-DSPAM-Probability:\n",
      "X-Sieve:\n",
      "X-Authentication-Warning:\n",
      "X-Content-Type-Outer-Envelope:\n",
      "X-Content-Type-Message-Body:\n",
      "X-DSPAM-Result:\n",
      "X-DSPAM-Processed:\n",
      "X-DSPAM-Confidence:\n",
      "X-DSPAM-Probability:\n",
      "X-Sieve:\n",
      "X-Authentication-Warning:\n",
      "X-Content-Type-Outer-Envelope:\n",
      "X-Content-Type-Message-Body:\n",
      "X-DSPAM-Result:\n",
      "X-DSPAM-Processed:\n",
      "X-DSPAM-Confidence:\n",
      "X-DSPAM-Probability:\n",
      "X-Sieve:\n",
      "X-Authentication-Warning:\n",
      "X-Content-Type-Outer-Envelope:\n",
      "X-Content-Type-Message-Body:\n",
      "X-DSPAM-Result:\n",
      "X-DSPAM-Processed:\n",
      "X-DSPAM-Confidence:\n",
      "X-DSPAM-Probability:\n",
      "X-Sieve:\n",
      "X-Authentication-Warning:\n",
      "X-Content-Type-Outer-Envelope:\n",
      "X-Content-Type-Message-Body:\n",
      "X-DSPAM-Result:\n",
      "X-DSPAM-Processed:\n",
      "X-DSPAM-Confidence:\n",
      "X-DSPAM-Probability:\n",
      "X-Sieve:\n",
      "X-Authentication-Warning:\n",
      "X-Content-Type-Outer-Envelope:\n",
      "X-Content-Type-Message-Body:\n",
      "X-DSPAM-Result:\n",
      "X-DSPAM-Processed:\n",
      "X-DSPAM-Confidence:\n",
      "X-DSPAM-Probability:\n",
      "X-Sieve:\n",
      "X-Authentication-Warning:\n",
      "X-Content-Type-Outer-Envelope:\n",
      "X-Content-Type-Message-Body:\n",
      "X-DSPAM-Result:\n",
      "X-DSPAM-Processed:\n",
      "X-DSPAM-Confidence:\n",
      "X-DSPAM-Probability:\n",
      "X-Sieve:\n",
      "X-Authentication-Warning:\n",
      "X-Content-Type-Outer-Envelope:\n",
      "X-Content-Type-Message-Body:\n",
      "X-DSPAM-Result:\n",
      "X-DSPAM-Processed:\n",
      "X-DSPAM-Confidence:\n",
      "X-DSPAM-Probability:\n",
      "X-Sieve:\n",
      "X-Authentication-Warning:\n",
      "X-Content-Type-Outer-Envelope:\n",
      "X-Content-Type-Message-Body:\n",
      "X-DSPAM-Result:\n",
      "X-DSPAM-Processed:\n",
      "X-DSPAM-Confidence:\n",
      "X-DSPAM-Probability:\n",
      "X-Sieve:\n",
      "X-Authentication-Warning:\n",
      "X-Content-Type-Outer-Envelope:\n",
      "X-Content-Type-Message-Body:\n",
      "X-DSPAM-Result:\n",
      "X-DSPAM-Processed:\n",
      "X-DSPAM-Confidence:\n",
      "X-DSPAM-Probability:\n",
      "X-Sieve:\n",
      "X-Authentication-Warning:\n",
      "X-Content-Type-Outer-Envelope:\n",
      "X-Content-Type-Message-Body:\n",
      "X-DSPAM-Result:\n",
      "X-DSPAM-Processed:\n",
      "X-DSPAM-Confidence:\n",
      "X-DSPAM-Probability:\n",
      "X-Sieve:\n",
      "X-Authentication-Warning:\n",
      "X-Content-Type-Outer-Envelope:\n",
      "X-Content-Type-Message-Body:\n",
      "X-DSPAM-Result:\n",
      "X-DSPAM-Processed:\n",
      "X-DSPAM-Confidence:\n",
      "X-DSPAM-Probability:\n",
      "X-Sieve:\n",
      "X-Authentication-Warning:\n",
      "X-Content-Type-Outer-Envelope:\n",
      "X-Content-Type-Message-Body:\n",
      "X-DSPAM-Result:\n",
      "X-DSPAM-Processed:\n",
      "X-DSPAM-Confidence:\n",
      "X-DSPAM-Probability:\n",
      "X-Sieve:\n",
      "X-Authentication-Warning:\n",
      "X-Content-Type-Outer-Envelope:\n",
      "X-Content-Type-Message-Body:\n",
      "X-DSPAM-Result:\n",
      "X-DSPAM-Processed:\n",
      "X-DSPAM-Confidence:\n",
      "X-DSPAM-Probability:\n",
      "X-Sieve:\n",
      "X-Authentication-Warning:\n",
      "X-Content-Type-Outer-Envelope:\n",
      "X-Content-Type-Message-Body:\n",
      "X-DSPAM-Result:\n",
      "X-DSPAM-Processed:\n",
      "X-DSPAM-Confidence:\n",
      "X-DSPAM-Probability:\n",
      "X-Sieve:\n",
      "X-Authentication-Warning:\n",
      "X-Content-Type-Outer-Envelope:\n",
      "X-Content-Type-Message-Body:\n",
      "X-DSPAM-Result:\n",
      "X-DSPAM-Processed:\n",
      "X-DSPAM-Confidence:\n",
      "X-DSPAM-Probability:\n",
      "X-Sieve:\n",
      "X-Authentication-Warning:\n",
      "X-Content-Type-Outer-Envelope:\n",
      "X-Content-Type-Message-Body:\n",
      "X-DSPAM-Result:\n",
      "X-DSPAM-Processed:\n",
      "X-DSPAM-Confidence:\n",
      "X-DSPAM-Probability:\n",
      "X-Sieve:\n",
      "X-Authentication-Warning:\n",
      "X-Content-Type-Outer-Envelope:\n",
      "X-Content-Type-Message-Body:\n",
      "X-DSPAM-Result:\n",
      "X-DSPAM-Processed:\n",
      "X-DSPAM-Confidence:\n",
      "X-DSPAM-Probability:\n",
      "X-Sieve:\n",
      "X-Authentication-Warning:\n",
      "X-Content-Type-Outer-Envelope:\n",
      "X-Content-Type-Message-Body:\n",
      "X-DSPAM-Result:\n",
      "X-DSPAM-Processed:\n",
      "X-DSPAM-Confidence:\n",
      "X-DSPAM-Probability:\n",
      "X-Sieve:\n",
      "X-Authentication-Warning:\n",
      "X-Content-Type-Outer-Envelope:\n",
      "X-Content-Type-Message-Body:\n",
      "X-DSPAM-Result:\n",
      "X-DSPAM-Processed:\n",
      "X-DSPAM-Confidence:\n",
      "X-DSPAM-Probability:\n",
      "X-Sieve:\n",
      "X-Authentication-Warning:\n",
      "X-Content-Type-Outer-Envelope:\n",
      "X-Content-Type-Message-Body:\n",
      "X-DSPAM-Result:\n",
      "X-DSPAM-Processed:\n",
      "X-DSPAM-Confidence:\n",
      "X-DSPAM-Probability:\n"
     ]
    }
   ],
   "source": [
    "# wildcard search example\n",
    "\n",
    "# import regular expression library\n",
    "import re\n",
    "\n",
    "# open file\n",
    "hand = open('..\\Data\\mbox-short.txt')\n",
    "\n",
    "# for loop to search and print lines starting with From:\n",
    "for line in hand:\n",
    "    line = line.rstrip()\n",
    "    if re.search('^X.*:', line):\n",
    "        print(line.split()[0])"
   ]
  },
  {
   "cell_type": "code",
   "execution_count": 9,
   "metadata": {},
   "outputs": [
    {
     "name": "stdout",
     "output_type": "stream",
     "text": [
      "X-Sieve:\n",
      "X-Authentication-Warning:\n",
      "X-Content-Type-Outer-Envelope:\n",
      "X-Content-Type-Message-Body:\n",
      "X-DSPAM-Result:\n",
      "X-DSPAM-Processed:\n",
      "X-DSPAM-Confidence:\n",
      "X-DSPAM-Probability:\n",
      "X-Sieve:\n",
      "X-Authentication-Warning:\n",
      "X-Content-Type-Outer-Envelope:\n",
      "X-Content-Type-Message-Body:\n",
      "X-DSPAM-Result:\n",
      "X-DSPAM-Processed:\n",
      "X-DSPAM-Confidence:\n",
      "X-DSPAM-Probability:\n",
      "X-Sieve:\n",
      "X-Authentication-Warning:\n",
      "X-Content-Type-Outer-Envelope:\n",
      "X-Content-Type-Message-Body:\n",
      "X-DSPAM-Result:\n",
      "X-DSPAM-Processed:\n",
      "X-DSPAM-Confidence:\n",
      "X-DSPAM-Probability:\n",
      "X-Sieve:\n",
      "X-Authentication-Warning:\n",
      "X-Content-Type-Outer-Envelope:\n",
      "X-Content-Type-Message-Body:\n",
      "X-DSPAM-Result:\n",
      "X-DSPAM-Processed:\n",
      "X-DSPAM-Confidence:\n",
      "X-DSPAM-Probability:\n",
      "X-Sieve:\n",
      "X-Authentication-Warning:\n",
      "X-Content-Type-Outer-Envelope:\n",
      "X-Content-Type-Message-Body:\n",
      "X-DSPAM-Result:\n",
      "X-DSPAM-Processed:\n",
      "X-DSPAM-Confidence:\n",
      "X-DSPAM-Probability:\n",
      "X-Sieve:\n",
      "X-Authentication-Warning:\n",
      "X-Content-Type-Outer-Envelope:\n",
      "X-Content-Type-Message-Body:\n",
      "X-DSPAM-Result:\n",
      "X-DSPAM-Processed:\n",
      "X-DSPAM-Confidence:\n",
      "X-DSPAM-Probability:\n",
      "X-Sieve:\n",
      "X-Authentication-Warning:\n",
      "X-Content-Type-Outer-Envelope:\n",
      "X-Content-Type-Message-Body:\n",
      "X-DSPAM-Result:\n",
      "X-DSPAM-Processed:\n",
      "X-DSPAM-Confidence:\n",
      "X-DSPAM-Probability:\n",
      "X-Sieve:\n",
      "X-Authentication-Warning:\n",
      "X-Content-Type-Outer-Envelope:\n",
      "X-Content-Type-Message-Body:\n",
      "X-DSPAM-Result:\n",
      "X-DSPAM-Processed:\n",
      "X-DSPAM-Confidence:\n",
      "X-DSPAM-Probability:\n",
      "X-Sieve:\n",
      "X-Authentication-Warning:\n",
      "X-Content-Type-Outer-Envelope:\n",
      "X-Content-Type-Message-Body:\n",
      "X-DSPAM-Result:\n",
      "X-DSPAM-Processed:\n",
      "X-DSPAM-Confidence:\n",
      "X-DSPAM-Probability:\n",
      "X-Sieve:\n",
      "X-Authentication-Warning:\n",
      "X-Content-Type-Outer-Envelope:\n",
      "X-Content-Type-Message-Body:\n",
      "X-DSPAM-Result:\n",
      "X-DSPAM-Processed:\n",
      "X-DSPAM-Confidence:\n",
      "X-DSPAM-Probability:\n",
      "X-Sieve:\n",
      "X-Authentication-Warning:\n",
      "X-Content-Type-Outer-Envelope:\n",
      "X-Content-Type-Message-Body:\n",
      "X-DSPAM-Result:\n",
      "X-DSPAM-Processed:\n",
      "X-DSPAM-Confidence:\n",
      "X-DSPAM-Probability:\n",
      "X-Sieve:\n",
      "X-Authentication-Warning:\n",
      "X-Content-Type-Outer-Envelope:\n",
      "X-Content-Type-Message-Body:\n",
      "X-DSPAM-Result:\n",
      "X-DSPAM-Processed:\n",
      "X-DSPAM-Confidence:\n",
      "X-DSPAM-Probability:\n",
      "X-Sieve:\n",
      "X-Authentication-Warning:\n",
      "X-Content-Type-Outer-Envelope:\n",
      "X-Content-Type-Message-Body:\n",
      "X-DSPAM-Result:\n",
      "X-DSPAM-Processed:\n",
      "X-DSPAM-Confidence:\n",
      "X-DSPAM-Probability:\n",
      "X-Sieve:\n",
      "X-Authentication-Warning:\n",
      "X-Content-Type-Outer-Envelope:\n",
      "X-Content-Type-Message-Body:\n",
      "X-DSPAM-Result:\n",
      "X-DSPAM-Processed:\n",
      "X-DSPAM-Confidence:\n",
      "X-DSPAM-Probability:\n",
      "X-Sieve:\n",
      "X-Authentication-Warning:\n",
      "X-Content-Type-Outer-Envelope:\n",
      "X-Content-Type-Message-Body:\n",
      "X-DSPAM-Result:\n",
      "X-DSPAM-Processed:\n",
      "X-DSPAM-Confidence:\n",
      "X-DSPAM-Probability:\n",
      "X-Sieve:\n",
      "X-Authentication-Warning:\n",
      "X-Content-Type-Outer-Envelope:\n",
      "X-Content-Type-Message-Body:\n",
      "X-DSPAM-Result:\n",
      "X-DSPAM-Processed:\n",
      "X-DSPAM-Confidence:\n",
      "X-DSPAM-Probability:\n",
      "X-Sieve:\n",
      "X-Authentication-Warning:\n",
      "X-Content-Type-Outer-Envelope:\n",
      "X-Content-Type-Message-Body:\n",
      "X-DSPAM-Result:\n",
      "X-DSPAM-Processed:\n",
      "X-DSPAM-Confidence:\n",
      "X-DSPAM-Probability:\n",
      "X-Sieve:\n",
      "X-Authentication-Warning:\n",
      "X-Content-Type-Outer-Envelope:\n",
      "X-Content-Type-Message-Body:\n",
      "X-DSPAM-Result:\n",
      "X-DSPAM-Processed:\n",
      "X-DSPAM-Confidence:\n",
      "X-DSPAM-Probability:\n",
      "X-Sieve:\n",
      "X-Authentication-Warning:\n",
      "X-Content-Type-Outer-Envelope:\n",
      "X-Content-Type-Message-Body:\n",
      "X-DSPAM-Result:\n",
      "X-DSPAM-Processed:\n",
      "X-DSPAM-Confidence:\n",
      "X-DSPAM-Probability:\n",
      "X-Sieve:\n",
      "X-Authentication-Warning:\n",
      "X-Content-Type-Outer-Envelope:\n",
      "X-Content-Type-Message-Body:\n",
      "X-DSPAM-Result:\n",
      "X-DSPAM-Processed:\n",
      "X-DSPAM-Confidence:\n",
      "X-DSPAM-Probability:\n",
      "X-Sieve:\n",
      "X-Authentication-Warning:\n",
      "X-Content-Type-Outer-Envelope:\n",
      "X-Content-Type-Message-Body:\n",
      "X-DSPAM-Result:\n",
      "X-DSPAM-Processed:\n",
      "X-DSPAM-Confidence:\n",
      "X-DSPAM-Probability:\n",
      "X-Sieve:\n",
      "X-Authentication-Warning:\n",
      "X-Content-Type-Outer-Envelope:\n",
      "X-Content-Type-Message-Body:\n",
      "X-DSPAM-Result:\n",
      "X-DSPAM-Processed:\n",
      "X-DSPAM-Confidence:\n",
      "X-DSPAM-Probability:\n",
      "X-Sieve:\n",
      "X-Authentication-Warning:\n",
      "X-Content-Type-Outer-Envelope:\n",
      "X-Content-Type-Message-Body:\n",
      "X-DSPAM-Result:\n",
      "X-DSPAM-Processed:\n",
      "X-DSPAM-Confidence:\n",
      "X-DSPAM-Probability:\n",
      "X-Sieve:\n",
      "X-Authentication-Warning:\n",
      "X-Content-Type-Outer-Envelope:\n",
      "X-Content-Type-Message-Body:\n",
      "X-DSPAM-Result:\n",
      "X-DSPAM-Processed:\n",
      "X-DSPAM-Confidence:\n",
      "X-DSPAM-Probability:\n",
      "X-Sieve:\n",
      "X-Authentication-Warning:\n",
      "X-Content-Type-Outer-Envelope:\n",
      "X-Content-Type-Message-Body:\n",
      "X-DSPAM-Result:\n",
      "X-DSPAM-Processed:\n",
      "X-DSPAM-Confidence:\n",
      "X-DSPAM-Probability:\n",
      "X-Sieve:\n",
      "X-Authentication-Warning:\n",
      "X-Content-Type-Outer-Envelope:\n",
      "X-Content-Type-Message-Body:\n",
      "X-DSPAM-Result:\n",
      "X-DSPAM-Processed:\n",
      "X-DSPAM-Confidence:\n",
      "X-DSPAM-Probability:\n",
      "X-Sieve:\n",
      "X-Authentication-Warning:\n",
      "X-Content-Type-Outer-Envelope:\n",
      "X-Content-Type-Message-Body:\n",
      "X-DSPAM-Result:\n",
      "X-DSPAM-Processed:\n",
      "X-DSPAM-Confidence:\n",
      "X-DSPAM-Probability:\n"
     ]
    }
   ],
   "source": [
    "# fine tuning wildcard search example to exclude any results that have whitespaces\n",
    "\n",
    "# import regular expression library\n",
    "import re\n",
    "\n",
    "# open file\n",
    "hand = open('..\\Data\\mbox-short.txt')\n",
    "\n",
    "# for loop to search and print lines starting with From:\n",
    "for line in hand:\n",
    "    line = line.rstrip()\n",
    "    if re.search('^X\\S+:', line):\n",
    "        print(line.split()[0])"
   ]
  },
  {
   "cell_type": "code",
   "execution_count": 2,
   "metadata": {},
   "outputs": [
    {
     "name": "stdout",
     "output_type": "stream",
     "text": [
      "['2', '19', '42']\n",
      "['a', 'ou', 'i', 'e', 'u', 'e', 'a', 'e', 'a']\n"
     ]
    }
   ],
   "source": [
    "# finding digits and characters\n",
    "import re\n",
    "x = 'My 2 favourite numbers are 19 and 42'\n",
    "\n",
    "# [0-9] is one digit. [0-9]+ is more than one digit\n",
    "y = re.findall('[0-9]+', x)\n",
    "print(y)\n",
    "\n",
    "# [a-z] is one character. [a-z]+ is more than one character\n",
    "# below example looks for vowels\n",
    "z = re.findall('[aeiou]+',x)\n",
    "print(z)\n"
   ]
  },
  {
   "cell_type": "code",
   "execution_count": 3,
   "metadata": {},
   "outputs": [
    {
     "name": "stdout",
     "output_type": "stream",
     "text": [
      "['From: Using the :']\n",
      "['From:']\n"
     ]
    }
   ],
   "source": [
    "# greedy vs non-greedy matching (using ?)\n",
    "import re\n",
    "\n",
    "x = 'From: Using the : character'\n",
    "\n",
    "# greedy\n",
    "y = re.findall('^F.+:', x)\n",
    "print(y)\n",
    "\n",
    "# non-greedt\n",
    "z = re.findall('^F.+?:', x)\n",
    "print(z)"
   ]
  },
  {
   "cell_type": "code",
   "execution_count": 5,
   "metadata": {},
   "outputs": [
    {
     "name": "stdout",
     "output_type": "stream",
     "text": [
      "['stephen.marquard@uct.ac.za']\n"
     ]
    }
   ],
   "source": [
    "# extracting email address \\$+ one white space\n",
    "import re\n",
    "\n",
    "x = 'From stephen.marquard@uct.ac.za Sat Jan  5 09:14:16 2008'\n",
    "\n",
    "# below example will pull strings that have atleast one white space before\n",
    "# and after and contains @ from any line\n",
    "y = re.findall('\\S+@\\S+',x)\n",
    "print(y)"
   ]
  },
  {
   "cell_type": "code",
   "execution_count": 7,
   "metadata": {},
   "outputs": [
    {
     "name": "stdout",
     "output_type": "stream",
     "text": [
      "['uct.ac.za']\n"
     ]
    }
   ],
   "source": [
    "# extracting domain name from email address\n",
    "import re\n",
    "\n",
    "x = 'From stephen.marquard@uct.ac.za Sat Jan  5 09:14:16 2008'\n",
    "\n",
    "y = re.findall('@([^ ]*)',x)\n",
    "print(y)"
   ]
  },
  {
   "cell_type": "code",
   "execution_count": 6,
   "metadata": {},
   "outputs": [
    {
     "name": "stdout",
     "output_type": "stream",
     "text": [
      "['stephen.marquard@uct.ac.za']\n"
     ]
    }
   ],
   "source": [
    "# extracting email address \\$+ one white space\n",
    "import re\n",
    "\n",
    "x = 'From stephen.marquard@uct.ac.za Sat Jan  5 09:14:16 2008'\n",
    "\n",
    "# below example will pull strings that have atleast one white space before\n",
    "# and after and contains @ ONLY from lines that start with From\n",
    "y = re.findall('^From (\\S+@\\S+)',x)\n",
    "print(y)"
   ]
  },
  {
   "cell_type": "code",
   "execution_count": 9,
   "metadata": {},
   "outputs": [
    {
     "name": "stdout",
     "output_type": "stream",
     "text": [
      "['uct.ac.za']\n"
     ]
    }
   ],
   "source": [
    "# extracting domain name from email address\n",
    "import re\n",
    "\n",
    "x = 'From stephen.marquard@uct.ac.za Sat Jan  5 09:14:16 2008'\n",
    "\n",
    "z = re.findall('^From .*@([^ ]*)',x)\n",
    "print(z)\n"
   ]
  },
  {
   "cell_type": "code",
   "execution_count": 12,
   "metadata": {},
   "outputs": [
    {
     "name": "stdout",
     "output_type": "stream",
     "text": [
      "Maximum: 0.9907\n"
     ]
    }
   ],
   "source": [
    "# spam confidence example\n",
    "import re\n",
    "hand = open('mbox-short.txt')\n",
    "numlist = list()\n",
    "\n",
    "for line in hand:\n",
    "    line = line.rstrip()\n",
    "    stuff = re.findall('^X-DSPAM-Confidence: ([0-9.]+)', line)\n",
    "    if len(stuff) != 1 :  continue\n",
    "    num = float(stuff[0])\n",
    "    numlist.append(num)\n",
    "print('Maximum:', max(numlist))"
   ]
  },
  {
   "cell_type": "code",
   "execution_count": 13,
   "metadata": {},
   "outputs": [
    {
     "name": "stdout",
     "output_type": "stream",
     "text": [
      "['$10.00']\n"
     ]
    }
   ],
   "source": [
    "# escape character \\\n",
    "import re\n",
    "x = 'We just received $10.00 for cookies.'\n",
    "\n",
    "y = re.findall('\\$[0-9.]+',x)\n",
    "print(y)"
   ]
  },
  {
   "cell_type": "markdown",
   "metadata": {},
   "source": [
    "_____"
   ]
  },
  {
   "cell_type": "markdown",
   "metadata": {},
   "source": [
    "### Week 3 Lecture Practice Code: "
   ]
  },
  {
   "cell_type": "code",
   "execution_count": null,
   "metadata": {},
   "outputs": [],
   "source": []
  },
  {
   "cell_type": "code",
   "execution_count": null,
   "metadata": {},
   "outputs": [],
   "source": []
  },
  {
   "cell_type": "code",
   "execution_count": null,
   "metadata": {},
   "outputs": [],
   "source": []
  },
  {
   "cell_type": "code",
   "execution_count": null,
   "metadata": {},
   "outputs": [],
   "source": []
  },
  {
   "cell_type": "markdown",
   "metadata": {},
   "source": [
    "____"
   ]
  },
  {
   "cell_type": "markdown",
   "metadata": {},
   "source": [
    "### Week 4 Lecture Practice Code: "
   ]
  },
  {
   "cell_type": "code",
   "execution_count": null,
   "metadata": {},
   "outputs": [],
   "source": []
  },
  {
   "cell_type": "code",
   "execution_count": null,
   "metadata": {},
   "outputs": [],
   "source": []
  },
  {
   "cell_type": "code",
   "execution_count": null,
   "metadata": {},
   "outputs": [],
   "source": []
  },
  {
   "cell_type": "code",
   "execution_count": null,
   "metadata": {},
   "outputs": [],
   "source": []
  },
  {
   "cell_type": "markdown",
   "metadata": {},
   "source": [
    "___"
   ]
  },
  {
   "cell_type": "markdown",
   "metadata": {},
   "source": [
    "### Week 5 Lecture Practice Code: "
   ]
  },
  {
   "cell_type": "code",
   "execution_count": null,
   "metadata": {},
   "outputs": [],
   "source": []
  },
  {
   "cell_type": "code",
   "execution_count": null,
   "metadata": {},
   "outputs": [],
   "source": []
  },
  {
   "cell_type": "code",
   "execution_count": null,
   "metadata": {},
   "outputs": [],
   "source": []
  },
  {
   "cell_type": "code",
   "execution_count": null,
   "metadata": {},
   "outputs": [],
   "source": []
  },
  {
   "cell_type": "markdown",
   "metadata": {},
   "source": [
    "___"
   ]
  },
  {
   "cell_type": "markdown",
   "metadata": {},
   "source": [
    "### Week 6 Lecture Practice Code: "
   ]
  },
  {
   "cell_type": "code",
   "execution_count": null,
   "metadata": {},
   "outputs": [],
   "source": []
  },
  {
   "cell_type": "code",
   "execution_count": null,
   "metadata": {},
   "outputs": [],
   "source": []
  },
  {
   "cell_type": "code",
   "execution_count": null,
   "metadata": {},
   "outputs": [],
   "source": []
  },
  {
   "cell_type": "code",
   "execution_count": null,
   "metadata": {},
   "outputs": [],
   "source": []
  },
  {
   "cell_type": "code",
   "execution_count": null,
   "metadata": {},
   "outputs": [],
   "source": []
  },
  {
   "cell_type": "markdown",
   "metadata": {},
   "source": [
    "____"
   ]
  }
 ],
 "metadata": {
  "interpreter": {
   "hash": "133602682ceac8dbac470470852ca2735ced8cf8e0bdd97a4df2a7e33d23d50b"
  },
  "kernelspec": {
   "display_name": "Python 3.10.4 64-bit",
   "language": "python",
   "name": "python3"
  },
  "language_info": {
   "codemirror_mode": {
    "name": "ipython",
    "version": 3
   },
   "file_extension": ".py",
   "mimetype": "text/x-python",
   "name": "python",
   "nbconvert_exporter": "python",
   "pygments_lexer": "ipython3",
   "version": "3.10.4"
  },
  "orig_nbformat": 4
 },
 "nbformat": 4,
 "nbformat_minor": 2
}
