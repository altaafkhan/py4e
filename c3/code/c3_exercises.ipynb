{
 "cells": [
  {
   "cell_type": "markdown",
   "metadata": {},
   "source": [
    "# Python for Everybody\n",
    "## C3: Using Python to Access Web Data"
   ]
  },
  {
   "cell_type": "markdown",
   "metadata": {},
   "source": [
    "### Week 2 Exercises: Regular Expressions\n",
    "These exercises are from: https://www.py4e.com/html3/11-regex"
   ]
  },
  {
   "cell_type": "markdown",
   "metadata": {},
   "source": [
    "**Exercise 1:** Write a simple program to simulate the operation of the grep command on Unix. Ask the user to enter a regular expression and count the number of lines that matched the regular expression:\n",
    "```\n",
    "$ python grep.py\n",
    "Enter a regular expression: ^Author\n",
    "mbox.txt had 1798 lines that matched ^Author\n",
    "\n",
    "$ python grep.py\n",
    "Enter a regular expression: ^X-\n",
    "mbox.txt had 14368 lines that matched ^X-\n",
    "\n",
    "$ python grep.py\n",
    "Enter a regular expression: java$\n",
    "mbox.txt had 4218 lines that matched java$\n",
    "```"
   ]
  },
  {
   "cell_type": "code",
   "execution_count": 8,
   "metadata": {},
   "outputs": [
    {
     "name": "stdout",
     "output_type": "stream",
     "text": [
      "mbox.txt had 4218 lines that matched java$\n"
     ]
    }
   ],
   "source": [
    "# import regular expression library\n",
    "import re\n",
    "\n",
    "# prompt user to enter regular expression\n",
    "regex = str(input('Enter a regular expression:'))\n",
    "\n",
    "# # open file\n",
    "file = open('mbox.txt', 'r')\n",
    "\n",
    "# counter variable\n",
    "count = 0\n",
    "\n",
    "# loop through file, strip out new line character\n",
    "for line in file:\n",
    "    line = line.rstrip()\n",
    "    # regex that searches for lines matching regular expression\n",
    "    match = re.search(regex, line)\n",
    "\n",
    "    # counts the number of lines matching regular expression\n",
    "    if match:\n",
    "        count = count + 1\n",
    "\n",
    "# print total lines that matched regular expression\n",
    "print('mbox.txt had', count, 'lines that matched', regex)"
   ]
  },
  {
   "cell_type": "markdown",
   "metadata": {},
   "source": [
    "**Exercise 2:** Write a program to look for lines of the form:\n",
    "```\n",
    "New Revision: 39772\n",
    "```"
   ]
  },
  {
   "cell_type": "code",
   "execution_count": 10,
   "metadata": {},
   "outputs": [],
   "source": [
    "# import regular expression library\n",
    "import re\n",
    "\n",
    "# # open file\n",
    "file = open('mbox.txt', 'r')\n",
    "\n",
    "# loop through file\n",
    "for line in file:\n",
    "    line = line.rstrip()\n",
    "\n",
    "    # find lines that start with New Revision:\n",
    "    rev = re.findall('^New Revision: [0-9]+', line)\n",
    "    \n",
    "    # if length of rev is not 1 then print out New Revision Line:\n",
    "    if len(rev) != 1 :  continue\n",
    "    print(rev)\n"
   ]
  },
  {
   "cell_type": "markdown",
   "metadata": {},
   "source": [
    "Extract the number from each of the lines using a regular expression and the findall() method. Compute the average of the numbers and print out the average as an integer.\n",
    "```\n",
    "Enter file:mbox.txt\n",
    "38549\n",
    "\n",
    "Enter file:mbox-short.txt\n",
    "39756\n",
    "```"
   ]
  },
  {
   "cell_type": "code",
   "execution_count": 7,
   "metadata": {},
   "outputs": [
    {
     "name": "stdout",
     "output_type": "stream",
     "text": [
      "39756.92592592593\n"
     ]
    }
   ],
   "source": [
    "# import regular expression library\n",
    "import re\n",
    "\n",
    "# promt user for file name\n",
    "inp = input('Enter file name:')\n",
    "\n",
    "# open file\n",
    "file = open(inp, 'r')\n",
    "\n",
    "revnum = list()\n",
    "count = 0\n",
    "\n",
    "# loop through file\n",
    "for line in file:\n",
    "    line = line.rstrip()\n",
    "\n",
    "    # find lines that start with New Revision:\n",
    "    rev = re.findall('^New Revision: ([0-9]+)', line)\n",
    "\n",
    "    for val in rev:\n",
    "        revnum = revnum + [float(val)]\n",
    "        count = count + 1\n",
    "\n",
    "# print(sum(revnum))\n",
    "# print(count)\n",
    "\n",
    "# print average\n",
    "print(sum(revnum) / count)\n"
   ]
  },
  {
   "cell_type": "markdown",
   "metadata": {},
   "source": [
    "_____"
   ]
  },
  {
   "cell_type": "markdown",
   "metadata": {},
   "source": [
    "### Week 3 & 4 Exercises: Networks and Sockets & Programs that Surf the Web\n",
    "These exercises are from: https://www.py4e.com/html3/12-network"
   ]
  },
  {
   "cell_type": "markdown",
   "metadata": {},
   "source": [
    "**Exercise 1:** Change the socket program **socket1.py** to prompt the user for the URL so it can read any web page. You can use **split('/')** to break the URL into its component parts so you can extract the host name for the socket **connect** call. Add error checking using **try** and **except** to handle the condition where the user enters an improperly formatted or non-existent URL.\n",
    "\n",
    "http://data.pr4e.org/romeo.txt"
   ]
  },
  {
   "cell_type": "code",
   "execution_count": 28,
   "metadata": {},
   "outputs": [
    {
     "name": "stdout",
     "output_type": "stream",
     "text": [
      "You entered: http://data.pr4e.org/romeo.txt\n",
      "URL host is: data.pr4e.org\n",
      "URL port is: 80\n",
      "HTTP/1.1 200 OK\n",
      "Date: Wed, 01 Jun 2022 07:03:09 GMT\n",
      "Server: Apache/2.4.18 (Ubuntu)\n",
      "Last-Modified: Sat, 13 May 2017 11:22:22 GMT\n",
      "ETag: \"a7-54f6609245537\"\n",
      "Accept-Ranges: bytes\n",
      "Content-Length: 167\n",
      "Cache-Control: max-age=0, no-cache, no-store, must-revalidate\n",
      "Pragma: no-cache\n",
      "Expires: Wed, 11 Jan 1984 05:00:00 GMT\n",
      "Connection: close\n",
      "Content-Type: text/plain\n",
      "\n",
      "But soft what light through yonder window breaks\n",
      "It is the east and Juliet is the sun\n",
      "Arise fair sun and kill the envious moon\n",
      "Who is already sick and pale with grief\n"
     ]
    }
   ],
   "source": [
    "# import socket library\n",
    "import socket\n",
    "\n",
    "# create a variable for port number\n",
    "port_num = 0\n",
    "\n",
    "while True:\n",
    "    # prompt user to enter URL\n",
    "    user_url = input('Enter URL including http:// or https://:')\n",
    "    # lower case url\n",
    "    user_url = user_url.lower()\n",
    "    # display the url user has entered\n",
    "    print('You entered:', user_url)\n",
    "\n",
    "    try:\n",
    "        # check to see if url begins with http:// or https://\n",
    "        if user_url.startswith('http://') or user_url.startswith('https://'):\n",
    "            # split url on / and grab, print hostname\n",
    "            hostname = user_url.split('/')[2]\n",
    "            print('URL host is:', hostname)\n",
    "            \n",
    "            # assign port number based on http: or https:\n",
    "            if 'http:' in user_url.split('/')[0]:\n",
    "                port_num = 80\n",
    "                print('URL port is:', port_num)\n",
    "            elif 'https:' in user_url.split('/')[0]:\n",
    "                port_num = 443\n",
    "                print('URL port is:', port_num)\n",
    "            break\n",
    "        else:\n",
    "            # prompt user to re-enter url if it doesn't meet the above conditions\n",
    "            print('Incorrect URL. Please enter full URL including http:// or https://')    \n",
    "    except:\n",
    "        print('Incorrect URL. Please enter full URL including http:// or https://')\n",
    "        exit()\n",
    "\n",
    "# make socket connection\n",
    "mysock = socket.socket(socket.AF_INET, socket.SOCK_STREAM)\n",
    "mysock.connect((hostname, port_num))\n",
    "c = 'GET ' + user_url + ' HTTP/1.0\\r\\n\\r\\n'\n",
    "cmd = c.encode()\n",
    "mysock.send(cmd)\n",
    "\n",
    "# print response\n",
    "while True:\n",
    "    data = mysock.recv(512)\n",
    "    if len(data) < 1:\n",
    "        break\n",
    "    print(data.decode(),end='')\n",
    "\n",
    "mysock.close()"
   ]
  },
  {
   "cell_type": "markdown",
   "metadata": {},
   "source": [
    "**Exercise 2:** Change your socket program so that it counts the number of characters it has received and stops displaying any text after it has shown characters specified by user. \n",
    "\n",
    "The program should also retrieve the entire document and count the total number of characters and display the count of the number of characters at the end of the document.\n",
    "\n",
    "**(Advanced)** Change the socket program so that it only shows data after the headers and a blank line have been received. Remember that recv receives characters (newlines and all), not lines."
   ]
  },
  {
   "cell_type": "code",
   "execution_count": 75,
   "metadata": {},
   "outputs": [
    {
     "name": "stdout",
     "output_type": "stream",
     "text": [
      "You entered: http://data.pr4e.org/words.txt\n",
      "URL host is: data.pr4e.org\n",
      "URL port is: 80\n",
      "You entered character limit of: 500\n",
      "\n",
      "\n",
      "First 500 characters of text is as follows:\n",
      "Writing programs or programming is a very creative\n",
      "and rewarding activity  You can write programs for\n",
      "many reasons ranging from making your living to solving\n",
      "a difficult data analysis problem to having fun to helping\n",
      "someone else solve a problem  This book assumes that\n",
      "{\\em everyone} needs to know how to program and that once\n",
      "you know how to program, you will figure out what you want\n",
      "to do with your newfound skills\n",
      "\n",
      "We are surrounded in our daily lives with computers ranging\n",
      "from laptops to cell \n",
      "\n",
      "\n",
      "Total character count of text excluding header is: 1171\n"
     ]
    }
   ],
   "source": [
    "# import socket library\n",
    "import socket\n",
    "\n",
    "# create a variable for port number\n",
    "port_num = 0\n",
    "\n",
    "while True:\n",
    "    # prompt user to enter URL\n",
    "    user_url = input('Enter URL including http:// or https://:')\n",
    "    # lower case url\n",
    "    user_url = user_url.lower()\n",
    "    # display the url user has entered\n",
    "    print('You entered:', user_url)\n",
    "\n",
    "    # url vlidation\n",
    "    try:\n",
    "        # check to see if url begins with http:// or https://\n",
    "        if user_url.startswith('http://') or user_url.startswith('https://'):\n",
    "            # split url on / and grab, print hostname\n",
    "            hostname = user_url.split('/')[2]\n",
    "            print('URL host is:', hostname)\n",
    "            \n",
    "            # assign port number based on http: or https:\n",
    "            if 'http:' in user_url.split('/')[0]:\n",
    "                port_num = 80\n",
    "                print('URL port is:', port_num)\n",
    "            elif 'https:' in user_url.split('/')[0]:\n",
    "                port_num = 443\n",
    "                print('URL port is:', port_num)\n",
    "            break\n",
    "        else:\n",
    "            # prompt user to re-enter url if it doesn't meet the above conditions\n",
    "            print('Incorrect URL. Please enter full URL including http:// or https://')    \n",
    "    except:\n",
    "        print('Incorrect URL. Please enter full URL including http:// or https://')\n",
    "        exit()\n",
    "\n",
    "while True:\n",
    "    # prompt user to enter character limit to display text\n",
    "    climit = input('Enter character limit of text to be displayed:')\n",
    "    # display the character limit user has entered\n",
    "    print('You entered character limit of:', climit)\n",
    "\n",
    "    # validate input\n",
    "    try:\n",
    "        char_limit = int(climit)\n",
    "        break\n",
    "    except:\n",
    "        print('Please enter a number for character limit')\n",
    "\n",
    "# make socket connection\n",
    "mysock = socket.socket(socket.AF_INET, socket.SOCK_STREAM)\n",
    "mysock.connect((hostname, port_num))\n",
    "c = 'GET ' + user_url + ' HTTP/1.0\\r\\n\\r\\n'\n",
    "cmd = c.encode()\n",
    "mysock.send(cmd)\n",
    "\n",
    "char_count = 0\n",
    "\n",
    "# print response\n",
    "while True:\n",
    "    data = mysock.recv(3000)\n",
    "    if len(data) < 1:\n",
    "        break\n",
    "\n",
    "    # decode reponse data\n",
    "    response = data.decode()\n",
    "    \n",
    "    # find position of line breaks after the header\n",
    "    pos = response.find(\"\\r\\n\\r\\n\")\n",
    "    \n",
    "    # save text only after the header\n",
    "    text = response[pos+4:]\n",
    "\n",
    "    # print first text up to user enter character limit\n",
    "    print('\\r\\n')\n",
    "    print('First', char_limit, 'characters of text is as follows:')\n",
    "    print(text[:char_limit + 1])\n",
    "    \n",
    "    # total character count\n",
    "    print('\\r\\n')\n",
    "    print('Total character count of text excluding header is:', len(text))\n",
    "\n",
    "mysock.close()"
   ]
  },
  {
   "cell_type": "markdown",
   "metadata": {},
   "source": [
    "**Exercise 3:** Use **urllib** to replicate the previous exercise of (1) retrieving the document from a URL, (2) displaying up to 3000 characters, and (3) counting the overall number of characters in the document. Don’t worry about the headers for this exercise, simply show the first 3000 characters of the document contents."
   ]
  },
  {
   "cell_type": "code",
   "execution_count": 74,
   "metadata": {},
   "outputs": [
    {
     "name": "stdout",
     "output_type": "stream",
     "text": [
      "You entered: http://data.pr4e.org/words.txt\n",
      "URL host is: data.pr4e.org\n",
      "You entered character limit of: 500\n",
      "\n",
      "\n",
      "First 500 characters of text is as follows:\n",
      "Writing programs or programming is a very creative\n",
      "and rewarding activity  You can write programs for\n",
      "many reasons ranging from making your living to solving\n",
      "a difficult data analysis problem to having fun to helping\n",
      "someone else solve a problem  This book assumes that\n",
      "{\\em everyone} needs to know how to program and that once\n",
      "you know how to program, you will figure out what you want\n",
      "to do with your newfound skills\n",
      "\n",
      "We are surrounded in our daily lives with computers ranging\n",
      "from laptops to cell\n",
      "\n",
      "\n",
      "Total character count of text excluding header is: 1171\n"
     ]
    }
   ],
   "source": [
    "# import library\n",
    "import urllib.request, urllib.parse, urllib.error\n",
    "\n",
    "# create a variable for port number\n",
    "port_num = 0\n",
    "\n",
    "while True:\n",
    "    # prompt user to enter URL\n",
    "    user_url = input('Enter URL including http:// or https://:')\n",
    "    # lower case url\n",
    "    user_url = user_url.lower()\n",
    "    # display the url user has entered\n",
    "    print('You entered:', user_url)\n",
    "\n",
    "    # url vlidation\n",
    "    try:\n",
    "        # check to see if url begins with http:// or https://\n",
    "        if user_url.startswith('http://') or user_url.startswith('https://'):\n",
    "            hostname = user_url.split('/')[2]\n",
    "            print('URL host is:', hostname)\n",
    "            break\n",
    "        else:\n",
    "            # prompt user to re-enter url if it doesn't meet the above conditions\n",
    "            print('Incorrect URL. Please enter full URL including http:// or https://')    \n",
    "    except:\n",
    "        print('Incorrect URL. Please enter full URL including http:// or https://')\n",
    "        exit()\n",
    "\n",
    "while True:\n",
    "    # prompt user to enter character limit to display text\n",
    "    climit = input('Enter character limit of text to be displayed:')\n",
    "    # display the character limit user has entered\n",
    "    print('You entered character limit of:', climit)\n",
    "    \n",
    "    # validate input\n",
    "    try:\n",
    "        char_limit = int(climit)\n",
    "        break\n",
    "    except:\n",
    "        print('Please enter a number for character limit')\n",
    "\n",
    "# make connection\n",
    "fhand = urllib.request.urlopen(user_url)\n",
    "\n",
    "# get response\n",
    "response = fhand.read()\n",
    "\n",
    "# print first text up to user enter character limit\n",
    "print('\\r\\n')\n",
    "print('First', char_limit, 'characters of text is as follows:')\n",
    "print(response[:char_limit + 1].decode().strip()) \n",
    "\n",
    "# total character count\n",
    "print('\\r\\n')\n",
    "print('Total character count of text excluding header is:', len(response))\n"
   ]
  },
  {
   "cell_type": "markdown",
   "metadata": {},
   "source": [
    "**Exercise 4:** Change the **urllinks.py** program to extract and count paragraph (p) tags from the retrieved HTML document and display the count of the paragraphs as the output of your program. Do not display the paragraph text, only count them. Test your program on several small web pages as well as some larger web pages."
   ]
  },
  {
   "cell_type": "code",
   "execution_count": 73,
   "metadata": {},
   "outputs": [
    {
     "name": "stdout",
     "output_type": "stream",
     "text": [
      "You entered: https://www.geeksforgeeks.org/count-the-number-of-paragraph-tag-using-beautifulsoup/\n",
      "URL host is: www.geeksforgeeks.org\n",
      "\n",
      "There are 29 paragraph tags on https://www.geeksforgeeks.org/count-the-number-of-paragraph-tag-using-beautifulsoup/\n"
     ]
    }
   ],
   "source": [
    "# import libraries\n",
    "import urllib.request, urllib.parse, urllib.error\n",
    "from bs4 import BeautifulSoup\n",
    "import ssl\n",
    "\n",
    "# ignore ssl certificate errors\n",
    "ctx = ssl.create_default_context()\n",
    "ctx.check_hostname = False\n",
    "ctx.verify_mode = ssl.CERT_NONE\n",
    "\n",
    "while True:\n",
    "    # prompt user to enter URL\n",
    "    user_url = input('Enter URL including http:// or https://:')\n",
    "    # lower case url\n",
    "    user_url = user_url.lower()\n",
    "    # display the url user has entered\n",
    "    print('You entered:', user_url)\n",
    "\n",
    "    # url vlidation\n",
    "    try:\n",
    "        # check to see if url begins with http:// or https://\n",
    "        if user_url.startswith('http://') or user_url.startswith('https://'):\n",
    "            hostname = user_url.split('/')[2]\n",
    "            print('URL host is:', hostname)\n",
    "            break\n",
    "        else:\n",
    "            # prompt user to re-enter url if it doesn't meet the above conditions\n",
    "            print('Incorrect URL. Please enter full URL including http:// or https://')    \n",
    "    except:\n",
    "        print('Incorrect URL. Please enter full URL including http:// or https://')\n",
    "        exit()\n",
    "\n",
    "html = urllib.request.urlopen(user_url, context=ctx).read()\n",
    "soup = BeautifulSoup(html, 'html.parser')\n",
    "\n",
    "# Retrieve and print count of all of the paragrapgh tags\n",
    "tags = soup.find_all('p')\n",
    "print('\\r')\n",
    "print('There are', len(tags), 'paragraph tags on', url)\n"
   ]
  },
  {
   "cell_type": "markdown",
   "metadata": {},
   "source": [
    "____"
   ]
  },
  {
   "cell_type": "markdown",
   "metadata": {},
   "source": [
    "### Week 5 Exercises: \n",
    "\n",
    "These exercises are from: "
   ]
  },
  {
   "cell_type": "markdown",
   "metadata": {},
   "source": []
  },
  {
   "cell_type": "code",
   "execution_count": null,
   "metadata": {},
   "outputs": [],
   "source": []
  },
  {
   "cell_type": "markdown",
   "metadata": {},
   "source": [
    "______"
   ]
  },
  {
   "cell_type": "markdown",
   "metadata": {},
   "source": [
    "### Week 6 Exercises: \n",
    "\n",
    "These exercises are from: "
   ]
  },
  {
   "cell_type": "markdown",
   "metadata": {},
   "source": []
  },
  {
   "cell_type": "markdown",
   "metadata": {},
   "source": [
    "____"
   ]
  }
 ],
 "metadata": {
  "interpreter": {
   "hash": "133602682ceac8dbac470470852ca2735ced8cf8e0bdd97a4df2a7e33d23d50b"
  },
  "kernelspec": {
   "display_name": "Python 3.10.4 64-bit",
   "language": "python",
   "name": "python3"
  },
  "language_info": {
   "codemirror_mode": {
    "name": "ipython",
    "version": 3
   },
   "file_extension": ".py",
   "mimetype": "text/x-python",
   "name": "python",
   "nbconvert_exporter": "python",
   "pygments_lexer": "ipython3",
   "version": "3.10.4"
  },
  "orig_nbformat": 4
 },
 "nbformat": 4,
 "nbformat_minor": 2
}
