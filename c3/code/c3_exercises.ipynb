{
 "cells": [
  {
   "cell_type": "markdown",
   "metadata": {},
   "source": [
    "# Python for Everybody\n",
    "## C3: Using Python to Access Web Data"
   ]
  },
  {
   "cell_type": "markdown",
   "metadata": {},
   "source": [
    "### Week 2 Exercises: Regular Expressions\n",
    "These exercises are from: https://www.py4e.com/html3/11-regex"
   ]
  },
  {
   "cell_type": "markdown",
   "metadata": {},
   "source": [
    "**Exercise 1:** Write a simple program to simulate the operation of the grep command on Unix. Ask the user to enter a regular expression and count the number of lines that matched the regular expression:\n",
    "```\n",
    "$ python grep.py\n",
    "Enter a regular expression: ^Author\n",
    "mbox.txt had 1798 lines that matched ^Author\n",
    "\n",
    "$ python grep.py\n",
    "Enter a regular expression: ^X-\n",
    "mbox.txt had 14368 lines that matched ^X-\n",
    "\n",
    "$ python grep.py\n",
    "Enter a regular expression: java$\n",
    "mbox.txt had 4218 lines that matched java$\n",
    "```"
   ]
  },
  {
   "cell_type": "code",
   "execution_count": 8,
   "metadata": {},
   "outputs": [
    {
     "name": "stdout",
     "output_type": "stream",
     "text": [
      "mbox.txt had 4218 lines that matched java$\n"
     ]
    }
   ],
   "source": [
    "# import regular expression library\n",
    "import re\n",
    "\n",
    "# prompt user to enter regular expression\n",
    "regex = str(input('Enter a regular expression:'))\n",
    "\n",
    "# # open file\n",
    "file = open('mbox.txt', 'r')\n",
    "\n",
    "# counter variable\n",
    "count = 0\n",
    "\n",
    "# loop through file, strip out new line character\n",
    "for line in file:\n",
    "    line = line.rstrip()\n",
    "    # regex that searches for lines matching regular expression\n",
    "    match = re.search(regex, line)\n",
    "\n",
    "    # counts the number of lines matching regular expression\n",
    "    if match:\n",
    "        count = count + 1\n",
    "\n",
    "# print total lines that matched regular expression\n",
    "print('mbox.txt had', count, 'lines that matched', regex)"
   ]
  },
  {
   "cell_type": "markdown",
   "metadata": {},
   "source": [
    "**Exercise 2:** Write a program to look for lines of the form:\n",
    "```\n",
    "New Revision: 39772\n",
    "```"
   ]
  },
  {
   "cell_type": "code",
   "execution_count": 10,
   "metadata": {},
   "outputs": [],
   "source": [
    "# import regular expression library\n",
    "import re\n",
    "\n",
    "# # open file\n",
    "file = open('mbox.txt', 'r')\n",
    "\n",
    "# loop through file\n",
    "for line in file:\n",
    "    line = line.rstrip()\n",
    "\n",
    "    # find lines that start with New Revision:\n",
    "    rev = re.findall('^New Revision: [0-9]+', line)\n",
    "    \n",
    "    # if length of rev is not 1 then print out New Revision Line:\n",
    "    if len(rev) != 1 :  continue\n",
    "    print(rev)\n"
   ]
  },
  {
   "cell_type": "markdown",
   "metadata": {},
   "source": [
    "Extract the number from each of the lines using a regular expression and the findall() method. Compute the average of the numbers and print out the average as an integer.\n",
    "```\n",
    "Enter file:mbox.txt\n",
    "38549\n",
    "\n",
    "Enter file:mbox-short.txt\n",
    "39756\n",
    "```"
   ]
  },
  {
   "cell_type": "code",
   "execution_count": 7,
   "metadata": {},
   "outputs": [
    {
     "name": "stdout",
     "output_type": "stream",
     "text": [
      "39756.92592592593\n"
     ]
    }
   ],
   "source": [
    "# import regular expression library\n",
    "import re\n",
    "\n",
    "# promt user for file name\n",
    "inp = input('Enter file name:')\n",
    "\n",
    "# open file\n",
    "file = open(inp, 'r')\n",
    "\n",
    "revnum = list()\n",
    "count = 0\n",
    "\n",
    "# loop through file\n",
    "for line in file:\n",
    "    line = line.rstrip()\n",
    "\n",
    "    # find lines that start with New Revision:\n",
    "    rev = re.findall('^New Revision: ([0-9]+)', line)\n",
    "\n",
    "    for val in rev:\n",
    "        revnum = revnum + [float(val)]\n",
    "        count = count + 1\n",
    "\n",
    "# print(sum(revnum))\n",
    "# print(count)\n",
    "\n",
    "# print average\n",
    "print(sum(revnum) / count)\n"
   ]
  },
  {
   "cell_type": "markdown",
   "metadata": {},
   "source": [
    "_____"
   ]
  },
  {
   "cell_type": "markdown",
   "metadata": {},
   "source": [
    "### Week 3 Exercises: \n",
    "These exercises are from: "
   ]
  },
  {
   "cell_type": "markdown",
   "metadata": {},
   "source": []
  },
  {
   "cell_type": "code",
   "execution_count": null,
   "metadata": {},
   "outputs": [],
   "source": []
  },
  {
   "cell_type": "markdown",
   "metadata": {},
   "source": [
    "____"
   ]
  },
  {
   "cell_type": "markdown",
   "metadata": {},
   "source": [
    "### Week 4 Exercises: \n",
    "\n",
    "These exercises are from: "
   ]
  },
  {
   "cell_type": "markdown",
   "metadata": {},
   "source": []
  },
  {
   "cell_type": "code",
   "execution_count": null,
   "metadata": {},
   "outputs": [],
   "source": []
  },
  {
   "cell_type": "markdown",
   "metadata": {},
   "source": [
    "_____"
   ]
  },
  {
   "cell_type": "markdown",
   "metadata": {},
   "source": [
    "### Week 5 Exercises: \n",
    "\n",
    "These exercises are from: "
   ]
  },
  {
   "cell_type": "markdown",
   "metadata": {},
   "source": []
  },
  {
   "cell_type": "code",
   "execution_count": null,
   "metadata": {},
   "outputs": [],
   "source": []
  },
  {
   "cell_type": "markdown",
   "metadata": {},
   "source": [
    "______"
   ]
  },
  {
   "cell_type": "markdown",
   "metadata": {},
   "source": [
    "### Week 6 Exercises: \n",
    "\n",
    "These exercises are from: "
   ]
  },
  {
   "cell_type": "markdown",
   "metadata": {},
   "source": []
  },
  {
   "cell_type": "markdown",
   "metadata": {},
   "source": [
    "____"
   ]
  }
 ],
 "metadata": {
  "interpreter": {
   "hash": "133602682ceac8dbac470470852ca2735ced8cf8e0bdd97a4df2a7e33d23d50b"
  },
  "kernelspec": {
   "display_name": "Python 3.10.4 64-bit",
   "language": "python",
   "name": "python3"
  },
  "language_info": {
   "codemirror_mode": {
    "name": "ipython",
    "version": 3
   },
   "file_extension": ".py",
   "mimetype": "text/x-python",
   "name": "python",
   "nbconvert_exporter": "python",
   "pygments_lexer": "ipython3",
   "version": "3.10.4"
  },
  "orig_nbformat": 4
 },
 "nbformat": 4,
 "nbformat_minor": 2
}
